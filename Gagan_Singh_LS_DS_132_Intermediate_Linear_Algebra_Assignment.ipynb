{
  "nbformat": 4,
  "nbformat_minor": 0,
  "metadata": {
    "colab": {
      "name": "Gagan_Singh_LS_DS_132_Intermediate_Linear_Algebra_Assignment.ipynb",
      "provenance": [],
      "collapsed_sections": [],
      "include_colab_link": true
    },
    "kernelspec": {
      "name": "python3",
      "display_name": "Python 3"
    }
  },
  "cells": [
    {
      "cell_type": "markdown",
      "metadata": {
        "id": "view-in-github",
        "colab_type": "text"
      },
      "source": [
        "<a href=\"https://colab.research.google.com/github/gagansingh23/DS-Unit-1-Sprint-3-Linear-Algebra/blob/master/Gagan_Singh_LS_DS_132_Intermediate_Linear_Algebra_Assignment.ipynb\" target=\"_parent\"><img src=\"https://colab.research.google.com/assets/colab-badge.svg\" alt=\"Open In Colab\"/></a>"
      ]
    },
    {
      "cell_type": "markdown",
      "metadata": {
        "id": "GSNiYn8lr6nN",
        "colab_type": "text"
      },
      "source": [
        "# Statistics"
      ]
    },
    {
      "cell_type": "markdown",
      "metadata": {
        "id": "3d4izUhQvh2_",
        "colab_type": "text"
      },
      "source": [
        "## 1.1 Sales for the past week was the following amounts: [3505, 2400, 3027, 2798, 3700, 3250, 2689]. Without using library functions, what is the mean, variance, and standard deviation of of sales from last week? (for extra bonus points, write your own function that can calculate these two values for any sized list)"
      ]
    },
    {
      "cell_type": "code",
      "metadata": {
        "id": "w1iZfYvBtEA1",
        "colab_type": "code",
        "outputId": "a82db9c5-2c78-42a0-f6d9-72bd8488aacf",
        "colab": {
          "base_uri": "https://localhost:8080/",
          "height": 34
        }
      },
      "source": [
        "#MEAN\n",
        "sales = [3502, 2400, 3027, 2798, 3700, 3250, 2698]\n",
        "m = sum(sales) / len(sales)\n",
        "print(m)"
      ],
      "execution_count": 0,
      "outputs": [
        {
          "output_type": "stream",
          "text": [
            "3053.5714285714284\n"
          ],
          "name": "stdout"
        }
      ]
    },
    {
      "cell_type": "code",
      "metadata": {
        "id": "Q4F49ZRKm3He",
        "colab_type": "code",
        "outputId": "f719db13-9057-4ba3-c9da-c5fdbaf297f3",
        "colab": {
          "base_uri": "https://localhost:8080/",
          "height": 34
        }
      },
      "source": [
        "#VARIANCE\n",
        "varience = sum((m - value) ** 2 for value in sales) / len(sales)\n",
        "print(varience)"
      ],
      "execution_count": 0,
      "outputs": [
        {
          "output_type": "stream",
          "text": [
            "182450.24489795914\n"
          ],
          "name": "stdout"
        }
      ]
    },
    {
      "cell_type": "code",
      "metadata": {
        "id": "8kk_KCkcpiKQ",
        "colab_type": "code",
        "outputId": "32fcac95-eb49-4110-8689-c9d5ccec4149",
        "colab": {
          "base_uri": "https://localhost:8080/",
          "height": 34
        }
      },
      "source": [
        "#STANDARD DEVIATION\n",
        "std  = (varience)**(1/2)\n",
        "print(std)"
      ],
      "execution_count": 0,
      "outputs": [
        {
          "output_type": "stream",
          "text": [
            "427.14194935402816\n"
          ],
          "name": "stdout"
        }
      ]
    },
    {
      "cell_type": "markdown",
      "metadata": {
        "id": "oh63KaOctEp_",
        "colab_type": "text"
      },
      "source": [
        "## 1.2 Find the covariance between last week's sales numbers and the number of customers that entered the store last week: [127, 80, 105, 92, 120, 115, 93] (you may use librray functions for calculating the covariance since we didn't specifically talk about its formula)"
      ]
    },
    {
      "cell_type": "code",
      "metadata": {
        "id": "G7ZB0krot564",
        "colab_type": "code",
        "outputId": "d0a7a516-bc47-4bac-f286-cfd865e2e006",
        "colab": {
          "base_uri": "https://localhost:8080/",
          "height": 51
        }
      },
      "source": [
        "import numpy as np\n",
        "import matplotlib.pyplot as plt\n",
        "import pandas as pd\n",
        "from numpy import cov\n",
        "\n",
        "customers = [127, 80, 105, 92, 120, 115, 93]\n",
        "np.cov(sales, customers)"
      ],
      "execution_count": 0,
      "outputs": [
        {
          "output_type": "execute_result",
          "data": {
            "text/plain": [
              "array([[212858.61904762,   7575.78571429],\n",
              "       [  7575.78571429,    290.95238095]])"
            ]
          },
          "metadata": {
            "tags": []
          },
          "execution_count": 52
        }
      ]
    },
    {
      "cell_type": "markdown",
      "metadata": {
        "id": "J9SbUY9mt66I",
        "colab_type": "text"
      },
      "source": [
        "## 1.3 Find the standard deviation of customers who entered the store last week. Then, use the standard deviations of both sales and customers to standardize the covariance to find the correlation coefficient that summarizes the relationship between sales and customers. (You may use library functions to check your work.)"
      ]
    },
    {
      "cell_type": "code",
      "metadata": {
        "id": "vFJms2YRrKhY",
        "colab_type": "code",
        "outputId": "76b3a96a-00ed-4dad-fc92-81e9f94d93eb",
        "colab": {
          "base_uri": "https://localhost:8080/",
          "height": 34
        }
      },
      "source": [
        "#standard deviation of customers\n",
        "np.std(customers)"
      ],
      "execution_count": 0,
      "outputs": [
        {
          "output_type": "execute_result",
          "data": {
            "text/plain": [
              "15.792015549069118"
            ]
          },
          "metadata": {
            "tags": []
          },
          "execution_count": 33
        }
      ]
    },
    {
      "cell_type": "code",
      "metadata": {
        "id": "W75IYHN-rR6Z",
        "colab_type": "code",
        "outputId": "18372f33-1c96-485a-8581-344d3f131234",
        "colab": {
          "base_uri": "https://localhost:8080/",
          "height": 34
        }
      },
      "source": [
        "np.std(sales)"
      ],
      "execution_count": 0,
      "outputs": [
        {
          "output_type": "execute_result",
          "data": {
            "text/plain": [
              "427.14194935402816"
            ]
          },
          "metadata": {
            "tags": []
          },
          "execution_count": 38
        }
      ]
    },
    {
      "cell_type": "code",
      "metadata": {
        "id": "djaHRg8rsQ9K",
        "colab_type": "code",
        "outputId": "8921acb4-eb19-4e25-e5b0-c71a1288d8ea",
        "colab": {
          "base_uri": "https://localhost:8080/",
          "height": 51
        }
      },
      "source": [
        "covariance = cov(customers, sales)\n",
        "print(covariance)"
      ],
      "execution_count": 0,
      "outputs": [
        {
          "output_type": "stream",
          "text": [
            "[[   290.95238095   7575.78571429]\n",
            " [  7575.78571429 212858.61904762]]\n"
          ],
          "name": "stdout"
        }
      ]
    },
    {
      "cell_type": "markdown",
      "metadata": {
        "id": "SR6nzC6Ms0Kl",
        "colab_type": "text"
      },
      "source": [
        "The correlation coefficient is 7575.79"
      ]
    },
    {
      "cell_type": "markdown",
      "metadata": {
        "id": "IbZVf7nmujPJ",
        "colab_type": "text"
      },
      "source": [
        "## 1.4 Use pandas to import a cleaned version of the titanic dataset from the following link: [Titanic Dataset](https://raw.githubusercontent.com/Geoyi/Cleaning-Titanic-Data/master/titanic_clean.csv)\n",
        "\n",
        "## Calculate the variance-covariance matrix and correlation matrix for the titanic dataset's numeric columns. (you can encode some of the categorical variables and include them as a stretch goal if you finish early)"
      ]
    },
    {
      "cell_type": "code",
      "metadata": {
        "id": "0TWgUIiaCFzq",
        "colab_type": "code",
        "outputId": "d9c2ec08-5bdb-4e1a-d2e7-3558c04e2c0a",
        "colab": {
          "base_uri": "https://localhost:8080/",
          "height": 328
        }
      },
      "source": [
        "#variance-covariance matrix \n",
        "import pandas as pd\n",
        "import numpy as np\n",
        "\n",
        "\n",
        "\n",
        "df = pd.read_csv(\"https://raw.githubusercontent.com/Geoyi/Cleaning-Titanic-Data/master/titanic_clean.csv\")\n",
        "\n",
        "newdf = df.select_dtypes(include=np.number)\n",
        "\n",
        "df.cov()"
      ],
      "execution_count": 0,
      "outputs": [
        {
          "output_type": "execute_result",
          "data": {
            "text/html": [
              "<div>\n",
              "<style scoped>\n",
              "    .dataframe tbody tr th:only-of-type {\n",
              "        vertical-align: middle;\n",
              "    }\n",
              "\n",
              "    .dataframe tbody tr th {\n",
              "        vertical-align: top;\n",
              "    }\n",
              "\n",
              "    .dataframe thead th {\n",
              "        text-align: right;\n",
              "    }\n",
              "</style>\n",
              "<table border=\"1\" class=\"dataframe\">\n",
              "  <thead>\n",
              "    <tr style=\"text-align: right;\">\n",
              "      <th></th>\n",
              "      <th>Unnamed: 0</th>\n",
              "      <th>pclass</th>\n",
              "      <th>survived</th>\n",
              "      <th>age</th>\n",
              "      <th>sibsp</th>\n",
              "      <th>parch</th>\n",
              "      <th>fare</th>\n",
              "      <th>body</th>\n",
              "      <th>has_cabin_number</th>\n",
              "    </tr>\n",
              "  </thead>\n",
              "  <tbody>\n",
              "    <tr>\n",
              "      <th>Unnamed: 0</th>\n",
              "      <td>143117.500000</td>\n",
              "      <td>284.357034</td>\n",
              "      <td>-53.967125</td>\n",
              "      <td>-1442.939812</td>\n",
              "      <td>25.828746</td>\n",
              "      <td>1.172783</td>\n",
              "      <td>-9410.735123</td>\n",
              "      <td>591.579132</td>\n",
              "      <td>-95.438885</td>\n",
              "    </tr>\n",
              "    <tr>\n",
              "      <th>pclass</th>\n",
              "      <td>284.357034</td>\n",
              "      <td>0.701969</td>\n",
              "      <td>-0.127248</td>\n",
              "      <td>-3.954605</td>\n",
              "      <td>0.053090</td>\n",
              "      <td>0.013287</td>\n",
              "      <td>-24.227788</td>\n",
              "      <td>-2.876653</td>\n",
              "      <td>-0.249992</td>\n",
              "    </tr>\n",
              "    <tr>\n",
              "      <th>survived</th>\n",
              "      <td>-53.967125</td>\n",
              "      <td>-0.127248</td>\n",
              "      <td>0.236250</td>\n",
              "      <td>-0.314343</td>\n",
              "      <td>-0.014088</td>\n",
              "      <td>0.034776</td>\n",
              "      <td>6.146023</td>\n",
              "      <td>0.000000</td>\n",
              "      <td>0.061406</td>\n",
              "    </tr>\n",
              "    <tr>\n",
              "      <th>age</th>\n",
              "      <td>-1442.939812</td>\n",
              "      <td>-3.954605</td>\n",
              "      <td>-0.314343</td>\n",
              "      <td>165.850021</td>\n",
              "      <td>-2.559806</td>\n",
              "      <td>-1.459378</td>\n",
              "      <td>114.416613</td>\n",
              "      <td>81.622922</td>\n",
              "      <td>1.463138</td>\n",
              "    </tr>\n",
              "    <tr>\n",
              "      <th>sibsp</th>\n",
              "      <td>25.828746</td>\n",
              "      <td>0.053090</td>\n",
              "      <td>-0.014088</td>\n",
              "      <td>-2.559806</td>\n",
              "      <td>1.085052</td>\n",
              "      <td>0.336833</td>\n",
              "      <td>8.641768</td>\n",
              "      <td>-8.708471</td>\n",
              "      <td>-0.003946</td>\n",
              "    </tr>\n",
              "    <tr>\n",
              "      <th>parch</th>\n",
              "      <td>1.172783</td>\n",
              "      <td>0.013287</td>\n",
              "      <td>0.034776</td>\n",
              "      <td>-1.459378</td>\n",
              "      <td>0.336833</td>\n",
              "      <td>0.749195</td>\n",
              "      <td>9.928031</td>\n",
              "      <td>4.237190</td>\n",
              "      <td>0.013316</td>\n",
              "    </tr>\n",
              "    <tr>\n",
              "      <th>fare</th>\n",
              "      <td>-9410.735123</td>\n",
              "      <td>-24.227788</td>\n",
              "      <td>6.146023</td>\n",
              "      <td>114.416613</td>\n",
              "      <td>8.641768</td>\n",
              "      <td>9.928031</td>\n",
              "      <td>2678.959738</td>\n",
              "      <td>-179.164684</td>\n",
              "      <td>10.976961</td>\n",
              "    </tr>\n",
              "    <tr>\n",
              "      <th>body</th>\n",
              "      <td>591.579132</td>\n",
              "      <td>-2.876653</td>\n",
              "      <td>0.000000</td>\n",
              "      <td>81.622922</td>\n",
              "      <td>-8.708471</td>\n",
              "      <td>4.237190</td>\n",
              "      <td>-179.164684</td>\n",
              "      <td>9544.688567</td>\n",
              "      <td>3.625689</td>\n",
              "    </tr>\n",
              "    <tr>\n",
              "      <th>has_cabin_number</th>\n",
              "      <td>-95.438885</td>\n",
              "      <td>-0.249992</td>\n",
              "      <td>0.061406</td>\n",
              "      <td>1.463138</td>\n",
              "      <td>-0.003946</td>\n",
              "      <td>0.013316</td>\n",
              "      <td>10.976961</td>\n",
              "      <td>3.625689</td>\n",
              "      <td>0.174613</td>\n",
              "    </tr>\n",
              "  </tbody>\n",
              "</table>\n",
              "</div>"
            ],
            "text/plain": [
              "                     Unnamed: 0      pclass  ...         body  has_cabin_number\n",
              "Unnamed: 0        143117.500000  284.357034  ...   591.579132        -95.438885\n",
              "pclass               284.357034    0.701969  ...    -2.876653         -0.249992\n",
              "survived             -53.967125   -0.127248  ...     0.000000          0.061406\n",
              "age                -1442.939812   -3.954605  ...    81.622922          1.463138\n",
              "sibsp                 25.828746    0.053090  ...    -8.708471         -0.003946\n",
              "parch                  1.172783    0.013287  ...     4.237190          0.013316\n",
              "fare               -9410.735123  -24.227788  ...  -179.164684         10.976961\n",
              "body                 591.579132   -2.876653  ...  9544.688567          3.625689\n",
              "has_cabin_number     -95.438885   -0.249992  ...     3.625689          0.174613\n",
              "\n",
              "[9 rows x 9 columns]"
            ]
          },
          "metadata": {
            "tags": []
          },
          "execution_count": 9
        }
      ]
    },
    {
      "cell_type": "code",
      "metadata": {
        "id": "HdTHjTu-0UOx",
        "colab_type": "code",
        "outputId": "2d1c1aa8-4961-4180-b526-7acb6e7adf83",
        "colab": {
          "base_uri": "https://localhost:8080/",
          "height": 328
        }
      },
      "source": [
        "#Correlation matrix\n",
        "\n",
        "df.corr()"
      ],
      "execution_count": 0,
      "outputs": [
        {
          "output_type": "execute_result",
          "data": {
            "text/html": [
              "<div>\n",
              "<style scoped>\n",
              "    .dataframe tbody tr th:only-of-type {\n",
              "        vertical-align: middle;\n",
              "    }\n",
              "\n",
              "    .dataframe tbody tr th {\n",
              "        vertical-align: top;\n",
              "    }\n",
              "\n",
              "    .dataframe thead th {\n",
              "        text-align: right;\n",
              "    }\n",
              "</style>\n",
              "<table border=\"1\" class=\"dataframe\">\n",
              "  <thead>\n",
              "    <tr style=\"text-align: right;\">\n",
              "      <th></th>\n",
              "      <th>Unnamed: 0</th>\n",
              "      <th>pclass</th>\n",
              "      <th>survived</th>\n",
              "      <th>age</th>\n",
              "      <th>sibsp</th>\n",
              "      <th>parch</th>\n",
              "      <th>fare</th>\n",
              "      <th>body</th>\n",
              "      <th>has_cabin_number</th>\n",
              "    </tr>\n",
              "  </thead>\n",
              "  <tbody>\n",
              "    <tr>\n",
              "      <th>Unnamed: 0</th>\n",
              "      <td>1.000000</td>\n",
              "      <td>0.897822</td>\n",
              "      <td>-0.293717</td>\n",
              "      <td>-0.296172</td>\n",
              "      <td>0.065594</td>\n",
              "      <td>0.003584</td>\n",
              "      <td>-0.481215</td>\n",
              "      <td>0.015558</td>\n",
              "      <td>-0.603727</td>\n",
              "    </tr>\n",
              "    <tr>\n",
              "      <th>pclass</th>\n",
              "      <td>0.897822</td>\n",
              "      <td>1.000000</td>\n",
              "      <td>-0.312469</td>\n",
              "      <td>-0.366370</td>\n",
              "      <td>0.060832</td>\n",
              "      <td>0.018322</td>\n",
              "      <td>-0.558629</td>\n",
              "      <td>-0.034642</td>\n",
              "      <td>-0.713857</td>\n",
              "    </tr>\n",
              "    <tr>\n",
              "      <th>survived</th>\n",
              "      <td>-0.293717</td>\n",
              "      <td>-0.312469</td>\n",
              "      <td>1.000000</td>\n",
              "      <td>-0.050199</td>\n",
              "      <td>-0.027825</td>\n",
              "      <td>0.082660</td>\n",
              "      <td>0.244265</td>\n",
              "      <td>NaN</td>\n",
              "      <td>0.302250</td>\n",
              "    </tr>\n",
              "    <tr>\n",
              "      <th>age</th>\n",
              "      <td>-0.296172</td>\n",
              "      <td>-0.366370</td>\n",
              "      <td>-0.050199</td>\n",
              "      <td>1.000000</td>\n",
              "      <td>-0.190747</td>\n",
              "      <td>-0.130872</td>\n",
              "      <td>0.171892</td>\n",
              "      <td>0.059059</td>\n",
              "      <td>0.271887</td>\n",
              "    </tr>\n",
              "    <tr>\n",
              "      <th>sibsp</th>\n",
              "      <td>0.065594</td>\n",
              "      <td>0.060832</td>\n",
              "      <td>-0.027825</td>\n",
              "      <td>-0.190747</td>\n",
              "      <td>1.000000</td>\n",
              "      <td>0.373587</td>\n",
              "      <td>0.160238</td>\n",
              "      <td>-0.099961</td>\n",
              "      <td>-0.009064</td>\n",
              "    </tr>\n",
              "    <tr>\n",
              "      <th>parch</th>\n",
              "      <td>0.003584</td>\n",
              "      <td>0.018322</td>\n",
              "      <td>0.082660</td>\n",
              "      <td>-0.130872</td>\n",
              "      <td>0.373587</td>\n",
              "      <td>1.000000</td>\n",
              "      <td>0.221539</td>\n",
              "      <td>0.051099</td>\n",
              "      <td>0.036806</td>\n",
              "    </tr>\n",
              "    <tr>\n",
              "      <th>fare</th>\n",
              "      <td>-0.481215</td>\n",
              "      <td>-0.558629</td>\n",
              "      <td>0.244265</td>\n",
              "      <td>0.171892</td>\n",
              "      <td>0.160238</td>\n",
              "      <td>0.221539</td>\n",
              "      <td>1.000000</td>\n",
              "      <td>-0.043110</td>\n",
              "      <td>0.507253</td>\n",
              "    </tr>\n",
              "    <tr>\n",
              "      <th>body</th>\n",
              "      <td>0.015558</td>\n",
              "      <td>-0.034642</td>\n",
              "      <td>NaN</td>\n",
              "      <td>0.059059</td>\n",
              "      <td>-0.099961</td>\n",
              "      <td>0.051099</td>\n",
              "      <td>-0.043110</td>\n",
              "      <td>1.000000</td>\n",
              "      <td>0.083796</td>\n",
              "    </tr>\n",
              "    <tr>\n",
              "      <th>has_cabin_number</th>\n",
              "      <td>-0.603727</td>\n",
              "      <td>-0.713857</td>\n",
              "      <td>0.302250</td>\n",
              "      <td>0.271887</td>\n",
              "      <td>-0.009064</td>\n",
              "      <td>0.036806</td>\n",
              "      <td>0.507253</td>\n",
              "      <td>0.083796</td>\n",
              "      <td>1.000000</td>\n",
              "    </tr>\n",
              "  </tbody>\n",
              "</table>\n",
              "</div>"
            ],
            "text/plain": [
              "                  Unnamed: 0    pclass  ...      body  has_cabin_number\n",
              "Unnamed: 0          1.000000  0.897822  ...  0.015558         -0.603727\n",
              "pclass              0.897822  1.000000  ... -0.034642         -0.713857\n",
              "survived           -0.293717 -0.312469  ...       NaN          0.302250\n",
              "age                -0.296172 -0.366370  ...  0.059059          0.271887\n",
              "sibsp               0.065594  0.060832  ... -0.099961         -0.009064\n",
              "parch               0.003584  0.018322  ...  0.051099          0.036806\n",
              "fare               -0.481215 -0.558629  ... -0.043110          0.507253\n",
              "body                0.015558 -0.034642  ...  1.000000          0.083796\n",
              "has_cabin_number   -0.603727 -0.713857  ...  0.083796          1.000000\n",
              "\n",
              "[9 rows x 9 columns]"
            ]
          },
          "metadata": {
            "tags": []
          },
          "execution_count": 10
        }
      ]
    },
    {
      "cell_type": "markdown",
      "metadata": {
        "id": "7K0Xfh8MvYkl",
        "colab_type": "text"
      },
      "source": [
        "# Orthogonality"
      ]
    },
    {
      "cell_type": "markdown",
      "metadata": {
        "id": "Pe3eOZ2fvdZ-",
        "colab_type": "text"
      },
      "source": [
        "## 2.1 Plot two vectors that are orthogonal to each other. What is a synonym for orthogonal?"
      ]
    },
    {
      "cell_type": "markdown",
      "metadata": {
        "id": "vmFO2LXo0jVi",
        "colab_type": "text"
      },
      "source": [
        "Perpindicularity or in Gagan's words forming right angles, if the dot product is 0 of two vectors it will be orthogonal"
      ]
    },
    {
      "cell_type": "code",
      "metadata": {
        "id": "YLSBk7hJvvCx",
        "colab_type": "code",
        "outputId": "0b4974ed-c9eb-4c61-f1c8-66ee4f7b8e83",
        "colab": {
          "base_uri": "https://localhost:8080/",
          "height": 281
        }
      },
      "source": [
        "a = [1,0]\n",
        "b = [0,1]\n",
        "\n",
        "np.dot(a,b)\n",
        "\n",
        "import matplotlib.pyplot as plt\n",
        "\n",
        "plt.arrow(0,0, a[0], a[1],head_width=.05, head_length=0.05, color ='red')\n",
        "plt.arrow(0,0, b[0], b[1],head_width=.05, head_length=0.05, color ='green')\n",
        "plt.xlim(-1,3)          \n",
        "plt.ylim(-1,3)\n",
        "plt.title(\"Orthogonal Vectors\")\n",
        "plt.show()\n"
      ],
      "execution_count": 0,
      "outputs": [
        {
          "output_type": "display_data",
          "data": {
            "image/png": "[encoded data removed]",
            "text/plain": [
              "<Figure size 432x288 with 1 Axes>"
            ]
          },
          "metadata": {
            "tags": []
          }
        }
      ]
    },
    {
      "cell_type": "markdown",
      "metadata": {
        "id": "7AS4V1Nhvvxz",
        "colab_type": "text"
      },
      "source": [
        "## 2.2 Are the following vectors orthogonal? Why or why not?\n",
        "\n",
        "\\begin{align}\n",
        "a = \\begin{bmatrix} -5 \\\\ 3 \\\\ 7 \\end{bmatrix}\n",
        "\\qquad\n",
        "b = \\begin{bmatrix} 6 \\\\ -8 \\\\ 2 \\end{bmatrix}\n",
        "\\end{align}"
      ]
    },
    {
      "cell_type": "code",
      "metadata": {
        "id": "F_-y54YSz47k",
        "colab_type": "code",
        "outputId": "16f2b70f-68f1-4e05-f605-abf87bd7741a",
        "colab": {
          "base_uri": "https://localhost:8080/",
          "height": 34
        }
      },
      "source": [
        "a = np.array([-5, 3, 7]) \n",
        "b = np.array([6, -8, 3])\n",
        "\n",
        "np.dot(a,b)"
      ],
      "execution_count": 0,
      "outputs": [
        {
          "output_type": "execute_result",
          "data": {
            "text/plain": [
              "-33"
            ]
          },
          "metadata": {
            "tags": []
          },
          "execution_count": 72
        }
      ]
    },
    {
      "cell_type": "markdown",
      "metadata": {
        "id": "PHpdJ-ZA4T0j",
        "colab_type": "text"
      },
      "source": [
        "These are not orthogonal because their dot product does not equal to 0."
      ]
    },
    {
      "cell_type": "markdown",
      "metadata": {
        "id": "MiNjyqiEz5SG",
        "colab_type": "text"
      },
      "source": [
        "## 2.3 Compute the following values: What do these quantities have in common?\n",
        "\n",
        "## What is $||c||^2$? \n",
        "\n",
        "## What is $c \\cdot c$? \n",
        "\n",
        "## What is $c^{T}c$?\n",
        "\n",
        "\\begin{align}\n",
        "c = \\begin{bmatrix} 2 & -15 & 6 & 20 \\end{bmatrix}\n",
        "\\end{align}"
      ]
    },
    {
      "cell_type": "code",
      "metadata": {
        "id": "IlV_uaYK1EQB",
        "colab_type": "code",
        "outputId": "9d979c47-4873-4d22-8b07-2e2a00c1a46a",
        "colab": {
          "base_uri": "https://localhost:8080/",
          "height": 34
        }
      },
      "source": [
        "c = np.array([2, -15, 6, 20])\n",
        "\n",
        "np.linalg.norm(c)**2\n",
        "\n"
      ],
      "execution_count": 0,
      "outputs": [
        {
          "output_type": "execute_result",
          "data": {
            "text/plain": [
              "665.0"
            ]
          },
          "metadata": {
            "tags": []
          },
          "execution_count": 74
        }
      ]
    },
    {
      "cell_type": "code",
      "metadata": {
        "id": "-mKmQGiY5JlX",
        "colab_type": "code",
        "outputId": "b19b8822-bb9b-4edd-daca-5c978d58e484",
        "colab": {
          "base_uri": "https://localhost:8080/",
          "height": 34
        }
      },
      "source": [
        "np.dot(c,c)"
      ],
      "execution_count": 0,
      "outputs": [
        {
          "output_type": "execute_result",
          "data": {
            "text/plain": [
              "665"
            ]
          },
          "metadata": {
            "tags": []
          },
          "execution_count": 75
        }
      ]
    },
    {
      "cell_type": "code",
      "metadata": {
        "id": "BDfxH_yQ5WXs",
        "colab_type": "code",
        "outputId": "0c870fdd-66c9-408b-9928-162bf5a4021c",
        "colab": {
          "base_uri": "https://localhost:8080/",
          "height": 34
        }
      },
      "source": [
        "np.matmul(c.T,c)"
      ],
      "execution_count": 0,
      "outputs": [
        {
          "output_type": "execute_result",
          "data": {
            "text/plain": [
              "665"
            ]
          },
          "metadata": {
            "tags": []
          },
          "execution_count": 76
        }
      ]
    },
    {
      "cell_type": "markdown",
      "metadata": {
        "id": "rGN_jthD5DpF",
        "colab_type": "text"
      },
      "source": [
        "$||c||^2$  is 665.0\n"
      ]
    },
    {
      "cell_type": "markdown",
      "metadata": {
        "id": "avm4TDrV5TSs",
        "colab_type": "text"
      },
      "source": [
        "$c \\cdot c$ is 665"
      ]
    },
    {
      "cell_type": "markdown",
      "metadata": {
        "id": "zH0JrtL85nFc",
        "colab_type": "text"
      },
      "source": [
        "$c^{T}c$ is 665"
      ]
    },
    {
      "cell_type": "markdown",
      "metadata": {
        "id": "Pf0wsQd95sGV",
        "colab_type": "text"
      },
      "source": [
        "They are all the same. "
      ]
    },
    {
      "cell_type": "markdown",
      "metadata": {
        "id": "MK_TpWqk1Evk",
        "colab_type": "text"
      },
      "source": [
        "# Unit Vectors"
      ]
    },
    {
      "cell_type": "markdown",
      "metadata": {
        "id": "Kpit6WWO1b8l",
        "colab_type": "text"
      },
      "source": [
        "## 3.1 Using Latex, write the following vectors as a linear combination of scalars and unit vectors:\n",
        "\n",
        "\\begin{align}\n",
        "d = \\begin{bmatrix} 7 \\\\ 12 \\end{bmatrix}\n",
        "\\qquad\n",
        "e = \\begin{bmatrix} 2 \\\\ 11 \\\\ -8  \\end{bmatrix}\n",
        "\\end{align}"
      ]
    },
    {
      "cell_type": "markdown",
      "metadata": {
        "id": "oBCj1sDW2ouC",
        "colab_type": "text"
      },
      "source": [
        "7{i} + 12{j}\n",
        "\n",
        "2x + 11y -8z"
      ]
    },
    {
      "cell_type": "markdown",
      "metadata": {
        "id": "dAdUQuep1_yJ",
        "colab_type": "text"
      },
      "source": [
        "## 3.2 Turn vector $f$ into a unit vector:\n",
        "\n",
        "\\begin{align}\n",
        "f = \\begin{bmatrix} 4 & 12 & 11 & 9 & 2 \\end{bmatrix}\n",
        "\\end{align}"
      ]
    },
    {
      "cell_type": "code",
      "metadata": {
        "id": "I3W8ZiHR1_Fa",
        "colab_type": "code",
        "outputId": "b9dc035c-fd55-4cb8-e28d-97aa165cfb36",
        "colab": {
          "base_uri": "https://localhost:8080/",
          "height": 34
        }
      },
      "source": [
        "#dividing the vector by the norm of the vector to get the unit vector\n",
        "f = np.array([4, 12, 11, 9, 2])\n",
        "\n",
        "unit_vector = f/np.linalg.norm(f) \n",
        "\n",
        "print(unit_vector)"
      ],
      "execution_count": 0,
      "outputs": [
        {
          "output_type": "stream",
          "text": [
            "[0.20908335 0.62725005 0.57497921 0.47043754 0.10454167]\n"
          ],
          "name": "stdout"
        }
      ]
    },
    {
      "cell_type": "code",
      "metadata": {
        "id": "v1W4_4RurBa_",
        "colab_type": "code",
        "outputId": "eabe2aaf-6e14-4dc3-8d50-8e826a371b4d",
        "colab": {
          "base_uri": "https://localhost:8080/",
          "height": 34
        }
      },
      "source": [
        "np.linalg.norm(unit_vector) "
      ],
      "execution_count": 0,
      "outputs": [
        {
          "output_type": "execute_result",
          "data": {
            "text/plain": [
              "0.9999999999999999"
            ]
          },
          "metadata": {
            "tags": []
          },
          "execution_count": 7
        }
      ]
    },
    {
      "cell_type": "markdown",
      "metadata": {
        "id": "o39UyP-I5lpP",
        "colab_type": "text"
      },
      "source": [
        "# Linear Independence / Dependence "
      ]
    },
    {
      "cell_type": "markdown",
      "metadata": {
        "id": "ajfBqYe45sT5",
        "colab_type": "text"
      },
      "source": [
        "## 4.1 Plot two vectors that are linearly dependent and two vectors that are linearly independent (bonus points if done in $\\mathbb{R}^3$)."
      ]
    },
    {
      "cell_type": "code",
      "metadata": {
        "id": "UCoreK0sDFME",
        "colab_type": "code",
        "outputId": "f7f01c82-e7e8-43a1-c897-40aa911c24f7",
        "colab": {
          "base_uri": "https://localhost:8080/",
          "height": 281
        }
      },
      "source": [
        "#linearly dependant\n",
        "plt.xlim(-2,5)          \n",
        "plt.ylim(-1,3)\n",
        "\n",
        "a = [-2,0] \n",
        "b = [4, 0]\n",
        "\n",
        "# Plot Vectors\n",
        "plt.arrow(0,0, a[0], a[1], linewidth=3, head_width=.05, head_length=0.05, color ='blue')\n",
        "plt.arrow(0,0, b[0], b[1], linewidth=3, head_width=.05, head_length=0.05, color ='red')\n",
        "\n",
        "plt.title(\"Linearly dependant Vectors\")\n",
        "plt.show()\n"
      ],
      "execution_count": 0,
      "outputs": [
        {
          "output_type": "display_data",
          "data": {
            "image/png": "[encoded data removed]",
            "text/plain": [
              "<Figure size 432x288 with 1 Axes>"
            ]
          },
          "metadata": {
            "tags": []
          }
        }
      ]
    },
    {
      "cell_type": "code",
      "metadata": {
        "id": "6pOgpUvyEVQy",
        "colab_type": "code",
        "outputId": "c2bbab8b-8fd9-48c5-c0be-fab2763ee39a",
        "colab": {
          "base_uri": "https://localhost:8080/",
          "height": 281
        }
      },
      "source": [
        "#linearly dependant\n",
        "plt.xlim(-2,6)          \n",
        "plt.ylim(-1,3)\n",
        "\n",
        "a = [-1,0] \n",
        "\n",
        "a2 = np.multiply(3, a)\n",
        "a3 = np.multiply(-1,a)\n",
        "\n",
        "# Plot Vectors\n",
        "\n",
        "\n",
        "plt.arrow(0,0, a2[0], a2[1], linewidth=3, head_width=.05, head_length=0.05, color ='yellow')\n",
        "plt.arrow(0,0, a[0], a[1], linewidth=3, head_width=.05, head_length=0.05, color ='green')\n",
        "plt.arrow(0,0, a3[0], a3[1], linewidth=3, head_width=.05, head_length=0.05, color ='red')\n",
        "plt.title(\"Linearly dependant Vectors\")\n",
        "plt.show()"
      ],
      "execution_count": 0,
      "outputs": [
        {
          "output_type": "display_data",
          "data": {
            "image/png": "[encoded data removed]",
            "text/plain": [
              "<Figure size 432x288 with 1 Axes>"
            ]
          },
          "metadata": {
            "tags": []
          }
        }
      ]
    },
    {
      "cell_type": "code",
      "metadata": {
        "id": "9mOn85lxBxPm",
        "colab_type": "code",
        "outputId": "6a176f7e-4435-4c25-e548-3b581ac9b908",
        "colab": {
          "base_uri": "https://localhost:8080/",
          "height": 281
        }
      },
      "source": [
        "#Independant Vector\n",
        "plt.xlim(-2,3.5)          \n",
        "plt.ylim(-1,3)\n",
        "\n",
        "a = [0.4,.5] \n",
        "b = [3, 1]\n",
        "\n",
        "# Plot Vectors\n",
        "plt.arrow(0,0, a[0], a[1], linewidth=3, head_width=.05, head_length=0.05, color ='blue')\n",
        "plt.arrow(0,0, b[0], b[1], linewidth=3, head_width=.05, head_length=0.05, color ='red')\n",
        "\n",
        "plt.title(\"Linearly Independent Vectors\")\n",
        "plt.show()"
      ],
      "execution_count": 0,
      "outputs": [
        {
          "output_type": "display_data",
          "data": {
            "image/png": "[encoded data removed]",
            "text/plain": [
              "<Figure size 432x288 with 1 Axes>"
            ]
          },
          "metadata": {
            "tags": []
          }
        }
      ]
    },
    {
      "cell_type": "code",
      "metadata": {
        "id": "l-XqLeChDGJl",
        "colab_type": "code",
        "outputId": "456db3b4-1586-4f0e-93fc-bc1d5c68d375",
        "colab": {
          "base_uri": "https://localhost:8080/",
          "height": 281
        }
      },
      "source": [
        "plt.xlim(-2,3.5)          \n",
        "plt.ylim(-2,3)\n",
        "\n",
        "a = [-1,.5] \n",
        "b = [4, 1]\n",
        "\n",
        "# Plot Vectors\n",
        "plt.arrow(0,0, a[0], a[1], linewidth=3, head_width=.05, head_length=0.05, color ='blue')\n",
        "plt.arrow(0,0, b[0], b[1], linewidth=3, head_width=.05, head_length=0.05, color ='red')\n",
        "\n",
        "plt.title(\"Linearly Independent Vectors\")\n",
        "plt.show()"
      ],
      "execution_count": 0,
      "outputs": [
        {
          "output_type": "display_data",
          "data": {
            "image/png": "[encoded data removed]",
            "text/plain": [
              "<Figure size 432x288 with 1 Axes>"
            ]
          },
          "metadata": {
            "tags": []
          }
        }
      ]
    },
    {
      "cell_type": "markdown",
      "metadata": {
        "id": "TrJ0MT_n3SvO",
        "colab_type": "text"
      },
      "source": [
        "# Span"
      ]
    },
    {
      "cell_type": "markdown",
      "metadata": {
        "id": "86iXLzwM2z8l",
        "colab_type": "text"
      },
      "source": [
        "## 5.1 What is the span of the following vectors?\n",
        "\n",
        "\\begin{align}\n",
        "g = \\begin{bmatrix} 1 & 2 \\end{bmatrix}\n",
        "\\qquad\n",
        "h = \\begin{bmatrix} 4 & 8 \\end{bmatrix}\n",
        "\\end{align}"
      ]
    },
    {
      "cell_type": "markdown",
      "metadata": {
        "id": "JqELMqP_I1wr",
        "colab_type": "text"
      },
      "source": [
        "It is the line that they lie on, because there multiples of eachother. "
      ]
    },
    {
      "cell_type": "markdown",
      "metadata": {
        "id": "l1deylUj4IHH",
        "colab_type": "text"
      },
      "source": [
        "## 5.2 What is the span of $\\{l, m, n\\}$?\n",
        "\n",
        "\\begin{align}\n",
        "l = \\begin{bmatrix} 1 & 2 & 3 \\end{bmatrix}\n",
        "\\qquad\n",
        "m = \\begin{bmatrix} -1 & 0 & 7 \\end{bmatrix}\n",
        "\\qquad\n",
        "n = \\begin{bmatrix} 4 & 8  & 2\\end{bmatrix}\n",
        "\\end{align}"
      ]
    },
    {
      "cell_type": "markdown",
      "metadata": {
        "id": "3TIArFkoKhWi",
        "colab_type": "text"
      },
      "source": [
        "The Span is 3, because in row echelon form because it has 3 lead 1 values. "
      ]
    },
    {
      "cell_type": "markdown",
      "metadata": {
        "id": "G0BOLDYyJ4v3",
        "colab_type": "text"
      },
      "source": [
        "![image.png](data:image/png;base64,iVBORw0KGgoAAAANSUhEUgAAAiYAAAHfCAYAAABkuxMKAAAgAElEQVR4Aey9CXxU1fn//5klyUThK/GnJemXIhFpCYomsWgV+hKwCoS6gUuBulCWqlRlq2iN7BRQinylUQukuBFUBFssEbQE/Cvg31iCQhMqYBT9NYP6JaGGzCSznN/r3GXumZs7W3LvZEieeb2Sufcsz/Oc97n33OeebWyMMQb6EAEiQASIABEgAkQgBQjYU8AGMoEIEAEiQASIABEgAhIBckzoQiACRIAIEAEiQARShgA5JilTFWQIESACRIAIEAEiQI4JXQNEgAgQASJABIhAyhAgxyRlqoIMIQJEgAgQASJABMgxoWuACBABIkAEiAARSBkC5JikTFWQIUSACBABIkAEiAA5JnQNEAEiQASIABEgAilDgByTlKkKMoQIEAEiQASIABEgx4SuASJABIgAESACRCBlCJBjkjJVQYYQASJABIgAESAC5JjQNUAEiAARIAJEgAikDAFyTFKmKsgQIkAEiAARIAJEgBwTugaIABEgAkSACBCBlCFAjknKVAUZQgSIABEgAkSACJBjQtcAESACRIAIEAEikDIEnEaW7H7XZxRMYUSACBABIkAEiAARsJQA9ZhYipeEEwEiQASIABEgAokQIMckEVqUlggQASJABIgAEbCUgOFQjqUaU1B4i5ehpZkB3E1Ls6Gby2aulT6GRi+DLwikcflnmSzfXGvbLy3A0NjUhcrbfmLJkSDWi92Gbt2TfB12tP72Uub3Mb+ueTORYUE70V774sl/JtXBmWRrPOwpTdwEEnBMGPas92PRu3HIvsaGrRMdUvrlkdL3BgbnASMGO3BFb+OOm5av/LixmIUUPvVMGvLOCp0qBwy71vuh6pm+0ImRvYUGNxDE2kkBbOapJbucSFdy1h/z4/kXGHYcD5fZdxAw85dO9D1HlROuIzy1djZnqRPDctQ8QH2tH6+/wbD5Ey2NdHQpsPBWfblj6DDkxbCrxI/llZr8cb914O6LNZ71//Rh3JNaPAbZsHUaZxCed01pGno7wm1IhCXX0HIigDcrgli7Q9CnHN491Y4brnSgm6N1nBYSbhMPj788mhR+FPXaEa+J8Gytzkbc68CMQcBTkwIwKJaUvm9vIP/HNgwf5kBf9WEfCOCpSUE5j3I/7JjrR4lyrfUdY0PJjcLt910Ajz8QhFqVUx53YGxfrR4lRYna/RM5f8upAHaUB1FiUIBp0+24IT9qpUiqj3/gw9TnWuEJBQwaBAwebMdIA1nx6w+//h5f7sTgnsr9pCv7oDvsWDRKs7vmLR9mvCqbM32xEyN7afehamSsMqjp9PcxmoLY/tcAVun5DQKW3epEvmojAFFHKzmG91x4HtUGo29VXv0BH4q3cGXArbo2xygfD4u/DmQJYjkGT7Tj8Ws01kD4s0BuO4w1i3KMUwAjpjow42rtWm+PrUY6jK7N43t9mLpGS9335zaU3Crcj6f8mPYQwzEtCdasTUPvNCGADi0joF0Ncaj4rjaORDyJmq4pSvrjwJ4dwNy5Abx5LGiQkOHAe5pTwhO8fiBgkA6AoGfVXD/cYrIgg1vNVa8eANIDe1Frp4SnOFYJTHvIjw9PCvoFHZqU8KNGYc7wsXd9GLfAwCnhWT6Ry73o76Kh4eUIlyw3QtF5yTk2fiiyZDiid4qaW0mWAnhvjvQRyhkvS56P87xxjrFTwuNfWBPErZN8qNcVWVYa+X/byhPj2gky3qbH9TnayK8BhsYoqY8dBzZvYZj2gB813xkklK47G0ZM1h6Wx7YwbA5d9wy7XtScElxqwwi9U8LFJmw30Fjrx40PGTslXGTJqiBGlvhj14t6fRgUjwdVVgKrVgXxuO6aTky/Db1/oCmortPuv5avg/LLhRJd+WoQ2u0cxNF9Wr7sczXOWijnF3YW8US8jxu/8mPa/QZOCc9dCTwyx4+N/xQEC4fNMa710D0n5IloFADVru+aAH7N8YdmLB1cXmJ1oFgg2LRnfRB7Tmh1wVO0CO1EqBxGxgtyjKJ52NEmTXZ7bTXSEenaFNMe+xsLe27UHw13SsS0dGw9AcFFjKXMhgHjbJhzCkjnXmMjw6L1Wp5xE23I6wb4+MP5HHuoV0JNcfdUG3pnKGc+oHqv9tAueSGIYQvt6KYm5t9NQbype0PZsyaI+isdyBKddzGPclzydkB7m7IjXK6UJojtQi8Ct4332qT5gthTzvCC8to6d2NA6V0IVxJWFiWqxQf0PU9uEPlDeprApu8IYMoVdnS3A0f+EcSqv8mZ9rwcxFPdbJihvNmKWsJ0xMNLzfwuw/G7gN6cUYBJzp8aFe070otAbJZy70R4rwzw+HA7ss8Gjn8axPKXNc0r3w9gUdjblxZneNSW8sS6dux2jH2AYTggXaff1bJQnXAbpj9gQ3fe+PqArAu47x4Mu4bmPGALXd98CPD9NcAexfg/vh9AifAmL5YpvbcTT92hvdmvXRTAoFI7uh8M7/VaNsUZpi8kI1G7T/px6wKt0UdvYM4ddvTuDrhrg9r9W8kw7iw/tk7UehNDOg0OBo+xYcR/QxrS4NHuT1mol6zy5SCODXGgrwtAG/T/4If8HpJt3lwTxJR8+d2J69B/vvgOyOIV5WX4UPU0ewMXtepV1ecE9GVQU4j3MZoCmFOsPaB4T+rdI+34P2D4cLvWTrzwZAD5z9gNenNVqcbfRvdcXHYZizMObUMdqD3KosBFJQG8vtD4ujQqh5hXPTYsmw84u5fyfmyCrXodEa9N1Sjhu+Zrhmypx5uhWv9CJ6SjQ+sJJOCYAL3znLxtkz+BIEas17q3hw1xyg9DNV5pXNTTwVeGxw8eFIR7UkBu0I8znPAB3YQr/PgnwhukKgRAxXGGsbkR3oiUdPxtale+PWxYRRAB+BiOCgGDC53ozRtS2NF7UgDVlUFU9gb6Rmjg9GURRAGBIF4XnJ5xDzhw9+Vax1TfXAeGFPhx6yK5od3xXAA3Xm5HX6HsXJ5eRyxeog3H6hh697KBv2XqfDsxWVzHMVmCYcca7aExYqodM67WPMe+vR0Y1Fd7QJ78N0OL4hDEZQDvwUqwPDGvHYcN+ZcLl34vP1b9TSnDIBtGinHcSPHNd5ANw3Txw3L9GPmonP9YDUPLKNnhMSpf3vUO3P1qAC8okVMX+KQueTXt2AccyOcPW6NPQnYzfLheqxfeVf3UrZrjwetle6EwfPQuw57rGIYZDIHoTRkyyIErhCFLXM5w7knNuTryNQMf3vrwr23Q/z0bBoHJQ1o7GOrHAVlgqP6H3grg4+NB5F9sR8vXSnoAfa/SveC0ziaFDLnSiSt6RohUgg/8PRjqyu87xo6SG4XrehpD9ko/lisPsAO1QeQJQ6hcRIaWPLoiITYeu4TkMQ5Z2+rA6Bo4zrD2g6DhS1QMI0LRQ6504Aph2CsUIR2YY2t816bx8+P92iCG5TikNvxDPgWBP+xUhzfcWDqzmID2xExYkdboSFnj6LITVTT+32DoLZOHnx1mSRB7hPHsZY9rF9La8oD0YBNlGR0vf9YvdPXqUqTZMCDkYQFT7/Vh0UYfdv0zAHezHYueT8P2hWkoifAGeZp3PQa0vxafwOLb8C5n7nToP936OjDtUi30iNBlrYWGH0XnFZ72fWWIwF0r2BWeJKGzqCy/C2K7cPPec2Xr1rhbrhNbn3Ni+/NpKBmnPRzjNSKx8iR+7bSI124zol9freIZjomccyI7JVJ5HXaMW65dz2EN3yBbmBMbi09UuwMMHwvzu6aMMODe3YF7fqlpqQgNLWlhRkethg++C+KoOjkGQHfe9dlW/S47Bgv3xhd8yMAbxB7FAeC9Fn0VozbWyBUnXufDf9j6fjMqw/G6AOpPBVF/Uvf3nXrPMLiFt5cpw/TXtQ2DpziwcbV8XY/TOSVcp/skQ+N3QVnPqSAav2NojDCUqtoY2y41ZRzfba2DCKL5S9QBo6HKCOn1wXziML8uWpS2U2o3VaffJFvjujb1hinnez6QX5pa6pj8Qie0axGyULBFBITXRos0KGKX/48P5yrHJz+Rx0dVjX3vsCNbuO9bjgdDb5R9f25Hfl877oZfDqtkOHAKuOIcNbfwfSkwFpAnmx4H/rg3iMevFh4CoaR2jLg7gLWLQgHSkMeeHbyhkxu7aJMCZzzg1zIqR4OnOvD41XaEPSx+bkNWq5Q8wIbLfiLPNZGiDdrSRHhxGbzBHnIW8MK7wJ5/MLRcw3DsA0X5NcDdfJ6H8KBSYiJ/xcmy5ZTW1c0n1p4t1GPjiQBOqvNuHDbpTYSXPbtX66E+vSFtLU+brx29AZHOP2GYsVK7lit1Xb5TfiIAiCSjpxNr7m09mTSSIxxJTNRwcW4VgAsi9P794GJ+f8gPY6MufCMdq9b4saeHHHOyQZ7vEErX24bL+BwPX1Cb25WQfhv6ccdE4XrsW4YBAa339IYiBzLOCsiT3f/G0Hgrw7FDIe0YIPbkaMGtjjauCmJjq1D+lmzD1oVOpPuCEOv2XKlHNTxDevfo1zEf4lF7xsJzRj6LaVfkrK1jTLoGxo4ANitdr4+86Mf2aXFc462tQcmCAEr04ZfasHWmE+km2RrXtamzYcoYYC2fTPwJw5cBIO2Y6pwCoThdHjq1loDBI9Eahcc+gXSj85tdnOk86Oc2LA8bk2eo3KldGLf+lJtow8gHNLve3Ku62VqYdJRlw7h7NEdkz5oADtSxkEMkpu7WNw0b59kwQug5EeP5pMBWk1PFBLpjtzKBS2zcB52v2aJLHvM0fl6yqGPn2pCXp4j9hOFYXRAHlMZ97I/syDZoWKMakQBLYzkM75cEMbVY+Xs0oBwH8KXqrBhnlELbVp52XDtRbNFHiXUjxo271x5zmFFN313vWPe2oWcE50HNk9A3Xw6sZrg03GFUg/m3eL2K4VGPjwv3svhWeSlQ8ogyD6Ed+n/QV7tvqmuDqD6sWdOvtx15P9LOq+uCOK721vS24QdmMTScm6bpPSOO2lEHYvlG3OTAODWgkoHP/UlX3zLV8LZ+NygZTbKV90DyZ4z0nIl0beps7Ss553LgkeMBzdEdYcOA7+kS02lSCCStx2TsHTZ0c7Pwt/af27HoVp333RREmfBmf/RwAOlfAS3qSh8+Gf7VII5f79DNaeFLQ4Bu5zpRcocP05Slg488KvbThzPNynVixkJg2ndBHDvOH+QMLwiTMvjk1GPXOFrN/wibmKpMkszOlX28FsFnqjzEey6MG//Tp8Jt0Z/FzUvN6AUuuEB7+53xrFbui3JtSP+XmjDO7zhZpneXu9YlZzNGN7WqWTedRg0O/25Ledpz7YRrj3p29y8B9yfADqG3ZNwcB+7Oi9PP9wawcrlOxXGGp/YG8LgwP0eXIrHToLCS6BN5xYE0IVonRepe14XFOh00Asg/W3nLFBK/PjNNc4baoT89R5tnIq0IUXVcasMPHEC6NMdMfnl5c0sQJ5X4vlcJzpiaJ8L32HvtGHGBbv4QT5um9IIEEb4Sy7Bq+bCEDem6JkxVOXaqXXrxUVetpNmBPa8F8YJw3ahp1e+YdqkJ4/luRx2Eic+wY9y8IDYqE6nXLtfalrB0MU70E1Ol2dPnq7zNuV7jujZ1dp77PRvGgkmrvlYt0Mo2IteOs9OEBl2Xj06tI2B4u1mhbsT1ToybmIbnpwvS/xbE2n9oFwKPOX5Am3DGzzevZ1i0mmG5spJFzb3rcHg+NZxPrOx7vUMa0lHD9N98CeDa9T48PtcnLfXjXbJ5Fzsxblwatq914G6hF+WIbpkcl8Unpg6+XPsb9hMn8pRJXeniG1slM+4dCATxvuI46W1Tz+PlpabnS6bP/p4dI9QA4W2h7/dsYUuq1SSxvuNhiW525KuCPmGoDo1B2zB8lgPPr3Tg9dXhc2rU5FG/21Ce9l47Ue1RIwfZMO5naZgx04mFP1cDgY3LA62WVGqx4hHDno3a0IQYw1edhS1RFyMTPbbbtInqAKr/r9YLqYli+Pj/087iPRo+1ImxN6Zh63JbaL4Hz3vrRmGIsz36XXZcIdyDql2DL1dWQwnXOV8KqvbAxju/hMu76AI7euc40LuX7k+dnJlmxyBhrsuxr1vzO/6uHzdOkuenHfiqdfxFuXZJPp9ozP9697IjW12ZqBZK9x3TLl36qKftqQNBMHes0nMdePwaIbANh9LEVKHdHPwTJwary+JNsjWua1Nv+1l2DBikDwTyc23oHkfvbuucFNJeAklzTNS3hux8JxaGnp7A5tUBac6IXJAgdgmb3kQr3MZXg+FvNGJiPsHwcTFAd+xj2PwuUHkceEEvJ82GLGX8nOcynFlv7BPJSs61Y4rQqE573a+zk+HANmXDN8WsKw3GxePjJZSrGUjnqzb0N9ggm9SzxJ2MNn1isXTYMUh4QD+yVtsTI/0cO7LP5askmNTDkJD+hMtj0rUTy8jQ5FcbrrhF6OIGsGhOlAnXitz6mvBNCucsdmCO0ODPXaW/XmIZFCHeYccVY7Q4vifNMWHvCR7jPhBuy4iB8TUH6gTD9J5OLBZfNHYwvKDu6dEu/TYMuEqzXT0aoj7EHDZcITBT4+OdX6Kmj/5twwXq0CiA5RsD4Xu9NAXwgrIlAN9f6JjBA0zlFF1P+2IN2ydVZLvqQBUCyD2cNgy+ww5986Klin0UlYdJtqo6ol6brUy1oW9Bq0Bp+4fmaG196ywUYhKBpA3laN33Nlxxqx0jdmhLWR8p9UsToHBcmJB2qQ2vP8THq9U3ET6hLoCn7lXyHWeorGMYlmNMoltfJx6/JrzhVVN2y7FjMJRVQccZbp3rw5wxdmSlMVTu0PZX4enlvUlUG1QJ0b7tGDEugLVqV/0Ohlt3+DD9Xhuy04Bdfw3f1G3sdON9WeLh1Xp+gHKDqWPuvHenIL6HTbQSRWPJ8+VfZwPU5bafMIyb5MOUqfJ4/5c12h4Xqg6DNlyN0n3HXx4+6TU0mTHua0eby6BTHN8pd9qWBrFRWSrMM/3x3YBul0xBlDeAP6rXBb+27rBjGN/D4VaG199VegqPA09FkyGIi3WYN8yOvlu0Hshp9/vA9xu67Dzg2IcMa4UhU4yw4YpIG5NFUZSV78ScQdpS4Y1PBjBkrbz8vT36e/bXhiVV9X1DDrwNA3hvhmh/gvNLXt/uR+MP5L1qVPnStw84d6ADw3Lt4PYPelXp3VKua2mPm2aGsjVaTw3PNyLGFgZhOqKcxGOXmL1itx+NPQxWkp1jx9irHVIZTLsGznJg2gNB3LNatMC84/ZcL0ZWRLs29emzheFBKU55oRM6nvVZ6NxCAm13THRjsLEeNmHxaQ5MmcewQ9386ROGjf8M4KIPNQdg7HC7sn258PBwOHDjHUHsUIZBlu8JYJh+jkoIluLhv2vQbe5y4DfTg9izSkl8HFi+qrVrPOJeu+EWxGFlCenTDrrl8aXG4ZusrXpOK5uakm+rrW4gpYap32E6DHkFcbcwaYvn470ivXU32JA4G8wwfaoRoe8oLHmac5zYOMeHccJDd62wt0lIDHeU7rDhB5rXJUa1Oo6/POGTXuO/duK//CPt/Jqe40TJL32Ypmwix+dEfJhvxxWhmadqsRj2vBG+RP7x65XJCd0dmHNvMLTluzSvor9d245dFZHod3cHls9jYZusbVzPNAdOlXcpsPH2+Fmo2eRvG4ZNtKOC7/2jREz7qx/b+fbe7dDfrac2z0QSe43c86fqzroo3HEZlMD8Ei7j2LtovUJEET7oLIZhuQBcDszR8Vu1uvV9PGex8cZjqq2Rvo3uubjsEgRW7pA2oBVClMNLGW64GkhvRx20FgpkX+7AtN6B0E8r8DRG5TDKGzPMZFv5oomI16ZgjNQ7LQ0PavtyjTDhhU5QQYcJEmj767TdhmxBGZ/Y1eojzLfQP4v43hbLhK7mjU8GsV14Axre30gg0PdKYVz7bwzH+dwkVY9+/Fby8AWrhLW7Wflp2LjQhrHCOHIoZW9g+m8dmCEu/VR18PlxoYSRD/pek4bXF9swzkj+pcDj8xza7rSqmCg6WvPSdS2rZRfG37lYaX4JP1Blq+lUncp3qP4ipYvCkovIykvD1pV2TBeGdUQVI/hvw6x04vFRBvtpiAnVY9XOeMrjC6KirdcOX5kiXmrCNaKawhu4kJ+h2qVFou8wR9jw3dxy3YQ5LrMugEXCxGr+O0TiEvneP3FgunCtLHo99n49se0G+HWz/ZnI9TLlATu2zkyLuZuy9AOXSplbDR+c5cDMOQKQv7HQXJk26z8rfD+TsZeKlSTvLi3OBbsiQnshWCX/SGdYgPHJud20lyHJ/tV2TDMYOhp0DVDyP87wTekEM1tx0qkL3XNCHl2SsFPVrrB6D0shnAjXaZvqIKJNdtwwTePDNYbKIagPHQpyYvHgedpraysdUa5N1UapPefD4EId8/kl0kewX01P39YTsDHGWr0C7H7XNB/Y+hKYoEH6dWFlk7R0lw3paeE3XrtVeBka1U3YrPj14nYbaLIAvokSn4vBN1LqCuU1GZ9l4pRfa5XkOzrgV647Wn97wSq/Es4dVbmdaK/ADsh/JtXBmWRrB1RlZ1ZJjklnrl0qGxEgAkSACBCBM4wAdVSdYRVG5hIBIkAEiAAR6MwEyDHpzLVLZSMCRIAIEAEicIYRIMfkDKswMpcIEAEiQASIQGcmQI5JZ65dKhsRIAJEgAgQgTOMgOHk1zOsDGQuESACRIAIEAEi0EkIUI9JJ6lIKgYRIAJEgAgQgc5AgByTzlCLVAYiQASIABEgAp2EADkmnaQiqRhEgAgQASJABDoDAXJMOkMtUhmIABEgAkSACHQSAuSYdJKKpGIQASJABIgAEegMBMgx6Qy1SGUgAkSACBABItBJCJBj0kkqkopBBIgAESACRKAzECDHpDPUIpWBCBABIkAEiEAnIUCOSSepSCoGESACRIAIEIHOQIAck85Qi1QGIkAEiAARIAKdhAA5Jp2kIqkYRIAIEAEiQAQ6AwFyTDpDLVIZiAARIAJEgAh0EgLkmHSSiqRiEAEiQASIABHoDATIMekMtUhlIAJEgAgQASLQSQiQY9JJKpKKQQSIABEgAkSgMxAgx6Qz1CKVgQgQASJABIhAJyFAjkknqUgqBhEgAkSACBCBzkCAHJPOUItUBiJABIgAESACnYQAOSadpCKpGESACBABIkAEOgMBckw6Qy1SGYgAESACRIAIdBIC5Jh0koqkYhABIkAEiAAR6AwEyDHpDLVIZSACRIAIEAEi0EkIODtJOVKyGAsWLEhJuzqzUdXV1Xj11Vc7cxGpbESACLSBALXHbYBmUpZE22VyTEwCH0nMvHnzIkVRuAUEBg4caIFUEkkEiEBnIEDtccfUYqLtMg3ldEw9kVYiQASIABEgAkTAgAD1mBhAsSIoUY/RChs6q8wBAwbQ8E1nrVwqFxGwgAC1xxZA1YlsT7tMjokOppWnBw8etFJ8l5VNY8ddtuqp4ESgzQSoPW4zurgytqddpqGcuBBTIiJABIgAESACRCAZBMgxSQZl0kEEiAARIAJEgAjERYAck7gwUSIiQASIABEgAkQgGQTIMUkGZdJBBIgAESACRIAIxEWAHJO4MFEiIkAEiAARIAJEIBkEyDFJBmXSQQSIABEgAkSACMRFgByTuDBRIiJABIgAESACRCAZBMgxSQZl0kEEiAARIAJEgAjERYAck7gwUSIiQASIABEgAkQgGQTIMUkGZSt0+JkVUlvJ9P4ngIamYKtwcwIYGuoDaPiPVfLNsZKkEAEiQARaEfC3CjEtwNvQgIZGr2nyYglq+LYBDQ3J0xfLHnJMYhFKtfgmP7a/0ATXTc2w8jJq+LQZN+c2ocdlzci+2IsrH/XihIk3ovdYM67M9SC7sBnZl3nhmmau/FSrNrKHCBCBTkKg0Y3y1ZNhG1RqehvccGgLRttsyMzKQlb3TBROLYXbxHZXXwPew1tQaLMh6/wsZGVlwnZ7iaX69PojnZNjEolMKoZ/04JHFrVg3nwAfSw0sKkF2SMCuGylAx9sdWD+UODjV4K44Klmc5Q2teCanwUwY1s63B+n4y+PAigPYn2lhXegOZaTFCJABLoyAXcFZs8sRvGDpUC/THNJNO5D1sCxKHhxJ/ZX7sTiUUDV2snImVthrh5VWmMVrs4bi9lVdaivr8O2JyYBm36D0vfcaooO+6Yf8esw9G1QfH46li1Nxyv/acI9TW3IH2eWw5v8mP5SBhYMcUg58tf64enXguXVTHpDcMUpJ1Iy7zcMy//uwtC+sl888lcMI5f60GBhmSLZQuFEgAgQgbgJZA/HijXDUdZQigmNceeKK2HN+sWY9XY9Fl/XQ0pfsPUzeNIuxJIDtaa0u3ojvO56rKjxYHh/uUUvmjELRQ+Xot7kcun1xnNOjkk8lFIqjfXzMfrckoFl/yU7JVLRnQ4UFAEwyXFwXZCBoQLTEx/4sR02/OkauhwFLHRIBIhAShKwZhA9984NWNFDdkqkYjtzUXgbgEaTe2YUpq6LhmO4wNe9awPKsRilo7KF0I45pKGcjuGe0lpdolPCLfUHUFUOjBzhQHt7S8SCe7/x4fnFTbjgTgYMADwBMZaOiQARIAJdh4BLdEp4sf1u7N8EFN1SYGq7qyfqdVehdOZo5Fy/BMgHPCkwok6Oib6W6LwVgc/LW7AcNiy7Ja1VXNsDGA5/EkSPS+24iQupZug/02v6ZLK220c5iQARIAIdR6B2UzGWYBZW3JlnqRE1lbXIGjQGY7iWA8W48K6yDm+HyTGxtMo7gfAvvOj/ELB9fyb6Z5hZHhvyr83AzTe68OqRdCzjYzvlQRw2aX6tmZaSLCJABIhAUgkcLcOF4/dj5zcrkGdmN7VBIQpuGIMx4yZhs+8zrBgFYNNm1FgzWmWg3TiIHBNjLhTKCTT5cPPQIJ7f4cLQLAuROJ24+RYL5ZNoIkAEiMCZQqCxCqP7TcCGg3sx/LwkGu3MxW0rhQgAACAASURBVJg7JwEd3l8CxHBMgsBsD5Ad4Y/Hve1LIjlSlTQCfj+WXezDyK0u/OKHymXi9+P5F6zZP8UrzS+xm9wrkzRapIgIEAEi0H4CfjeWdC9EUaUH4y9Rukr8bpSurkiKu+D11wEYY3kvTSxQMRwTO7AiE1ghiHk1DXBnAs/agJcB3OUHft8iJKBDawnYZPG75aW71ugK4JWHWsC3S2nY34xlqz3S3x39WnC4lwkTYL9oxs2jm/BKlTzLyutuxt0zged3pFs6ycsaViSVCBCBrkVAcRjekpfxmlf2BpSNz0Exb3f3lWDJoiXS39i0HNT0GWB+23h0C0YXTEbZB7VSEbxfVWDCXeXYcHCC+boShBTf+kxxbsF/K77MDU7gPqW35OkAMAuAmC5BQyh5HATqWzCv2I/l5Twtw4iJHixf6sLQbMVZiUNEPEkOb23GPeXAZQOA+fPDt74/MCS+SyaqngxgezWwfUwL7kELLhtqw/J9vBwx/OSoQimSCBABImAxgW/3ofj+xViyiespxvCieqxYswLDe7Vfb83G2ZiwCSjIB4ofnC0InITq6yxYwutyofxAKcqvKsUEAAWjHsOKLz0Y3sviSS1CySIdJv6UibSUSNj2AnuagXlB4BCASwAsTwMudwK1LcDvA8D3AZwGcL0D2COsEc2wA3kM2MOA7zuAmemR7O6a4VnpWFCSjgUWl77/jWfBe6OFSrIz4D3C4A0wwGGHK/Gr0ELjSDQRIAJEIAKB867C4te2YXGE6PYE541bBzZuXXtEJJa3VxGYj8Hr9wJOV0q1w218JASBNwUPZYkTUCW94QHuA3CDHfh7GjClGRjtA15UHJHTAeBPCr9l6UDPZmCEsmnYNidwGZN7YnarAhNjTanPEAJOG1xOc3t6zpCSk5lEgAgQgdQg4ARczo7vIdHDSLzvfGgzkN0M3Kd08W9LAyYp+1v4/bJTwrU8xMPsAN8xlH/u8gF+BzBHeBgdZcBFggmfMeBkALjEDvQXwhUR9EUEiAARIAJEgAh0bgKJd0u8aAfuErZF58Mv6udzYVhGlSzOO+HDNxfzCGVuSoUPOF/I87YfOMKABTSEoyKlbyJABIgAESACXYmA4FXEWex+6cBmodfjZ83yfBGeXRjdCUk7R0jbxACnU1vlszAAPABgs2LGmwx4GsCV4oSVkCQ6IAJEgAgQASJABDo5gcQdk2YGDE4HbhDITFe268wRxKk9Jv8WVnWcrzgpRYLj8bATGKwmBiDOVxFU0CERIAJEgAgQASLQ+QkInkSUworbhH/Eh174/iaCM/FmEHjDD5zjBB5U5LytDNF8qZzPFSbInusEfqmE38LlOIC5ynmRIFcJoi8iQASIABEgAkSgaxCI4ZgEgXkeQFxSPdsPzGsBzkkDXhWGafieJnwy6+8ygIcBLPQDUzzAEwDmOoD7xR+AswPjeF4bkKvIGK6c5wgyu0YdUCmJABEgAkSACBABhUCM7gk7sCATETfOuMYFuA1YzswEfh2Q556ssgNnGzgbl2cAXwh5+S/EiedCFB0SASJABIgAESACXYNADMekHRDOdgBnR8tv0+0Uqz+PlpfiiAARIAJEgAgQgc5IIMZQTmcsMpWJCBABIkAEiAARSFUC5Jikas2QXUSACBABIkAEuiABcky6YKVTkYkAESACRIAIpCoBckxStWbILiJABIgAESACXZBA4o6JPwh8HZD/Tgtb06c6PG73yTPI3kR4Gu24m0j+SGm53IZTQGOkBF0nvMHdELWwseJDmf1eeNtQX+6jbjS0IV9Ir2UHDA31ws9KmKXHL2zMaJbMziCn8RTgNbkg0j0ublbVDvnuU+3IfIZkTUa7aGadRMIaqT1JRvki2aSEx++Y+APAMx6gVzNwaQswvQXo2wyM9wCHU/CBf0qwif+4ILd7QDPwrgWNaAzIlkV/dRCYmg08e9B8FUffB9KygfH3A92zgUU7zdPhPwLYso3/DpnUQJpk7b61s2Gz2ZA1arPh8yBWfMiMRjcqXvoDCtMyMXZ9TSg4ngPvoVLk9MvB8Ger4kmetDQHXvHAletB9i99hmzaZIg/iAM7vXD18+BAal0KbSqOaZm+/QgoyAa6/wg4bBKYQ9vkezDrR0D3C4CpZcY/KxJPIdYukGWN2hZP6jM3jZXtIqdiZp1Eotz4NbB6JjCorHUKq8vXWqNhSHyOyUkf0KsFWAh5x1d3JlCWCey2AxUA+C8Ob1J+mM9QTZID+Y37oxZNaUB4+zopHGspzryjXeuBhauAtQBcJv9sdeNBoN+twNPvAOUbAM97wNwJwGqTHKBNzwIYD7z4DFDG/0qB23gVjAb6iL/62PHVctXEYqwbBSAn09CYWPHwu1E6tRC27jm49q7Z4K5FzNryu1Gxqzakz9XnavxxxmMoHpYbCuuwA3cLdn8hO/35t6bjuaEAvmeSNX4/nlvmxdKVsvyYnAS1J6qa8blJz2tBbPsOdfXYJmFvfiRnO+/HwNql8rEZmzw0fgQMnAS8+DpQ+TrAr/G1M4G577fJTEycLsvISaTW2qaqw3JZ3S6aXSdGoNzvAzOXAQ+WAf10dWV1+YzsiRAWh2MSAAaofT424JfCDq58U7QViuQH/MAhoZcigkLLg482A0ODwA3Cpm4ZacDfHcCLTuAGM+5qy0sRW8GwicAz82Kna0uK9csADATuHCjndvUD1lwLPLgMiD6iEYe2ZuDbHwO+lcCdY4Bx/G808NNrgdvGAN3iEJGsJPyyd/ZAVq8ICmPF82zOHhj7xF54vtyJgghiwoO9KBufg9mHhP76bnmYtnIxxlzSIzxpss+afLj3Kj8ONyv3ltMG11myEbomrm2WOZ24t/gsLP91Ytm9n3pxwZgAvMJPcCUmwYrUBvWYqJqNk4AbP9VydTtHPnaa4Lyvfwp4+1/AnUOAHw8Btn4oyz5wXNMX75F0H5wDRLpP4pWT6uksbRcBmFknkVhmDwHWrJRfBPVD9FaXL5JNBuGxHZOPhZ6QJQZ3/k8EEb/3AXUt8lb0fCv7eV6g1Atke+Q/sVdFHRrSx9UK+X/fDOxpBn7mkf9OAjjtB1Yq5zwv3/b+XcXGumZgiOIc8d/v4cNMPI6n3xoEPvIDH6tDOUHgZcG2KV6gTsn7theYzbfi9wDlLcDLiv3cjj2qk2ZAM+lBVrwiNgNv7QTyxwDic/CqsQB2AkfbO4acATwwHhD9Q//XwIM7gfuGJI1gzTslKLTZMLqoEDZbIcoOCR6XtwZ/uN0GW1qhlGYs75USHaZY8WGlcKFHDxdc2TkoDAs3PtlyeyYmbAKqHpwAm200yj/3ouajCpTMHI3Ja+UhIO9XNdiythijp5ag4p1SyUZehtIP3Gg4WoHJBTZp+GnskxVhQyxVLxVL4XxoauyiMrjVS9ldheKiQoy+fawkq/gNg6Emvw/3XuzD8wCmz/DANdGDE2p+MOzeyYd1mqS/ZTtDEYDfj1eelMN5/LKtQk+mMQJ41VtUF3/ioBc3j27CHdNkeX85FgS+8KLHCPm+vfumJty8uvU9ceJYC15Z3YRH3mjB7hfkvKv2cRuD2C0NR8lhV07z4AO3LOvE+x64RjdJ+p573wdp2IqfT2zCHYqOD17w4EpeJrG8is2t6vErHuFFhTI0yOug8PYl2PeV4ICK5d04ExjPh0VmykMk73ytxR55H7hdGQotWhU+5+SjLdoQ6e2rjHfm5pLufAa4TnF0+Lmzt9JrqbiYH70P/G4ScPuzwMZViswJgDjU6j0i25F2nRyvv080i4HDB4FFM4GX3peHEfhQ7i5epmZAHQbiYdzmr5Q6fGcVUHAdUDABeOeInI4fF10HLFJ6dlYrQ0hvCnxEvaYdW90uxlEnZpallawklK+VzigBLNbnpSbGeip/L7W0Tu1t0eJ7ehjzBRkrEfJc62Fst0dL8xqX4WfsWiXNkQBjHynxknxdflU3/z7oZ2yyku+zIGMnmjW5BwOM+fyMzVXiud6aFsb+V5dO0hFgbJaS7jUfY2IZ/h1kzOfT7ON653o0vfzc1xqDUcj8+fNDwZdcckno2LQD36eMoSdjaz41TSRTZd62OVxmzWbzdakaJNnjGftODUjsO2HOX27j43ls8b56SdH+JwoYsIJJZ7469hjA8OhO5uGx3+xlY/j5qA3yeaz4SKb7qtkkLgdgY9ZUR0rFPF/uZAUAK3piJ6v/zsNYfTXb8MSssHz7tyyW0nBZuG0d21+1k83Kl2UDY9i2yv1sw6NFUp51B6VSsP1PFzHctkEqY33lOikOM7ZJdmybAoYpO6Xj+orFrOiJ/Yb2ufc2sYw+p9lTe33MczrAGAuwjfeflsIy7vGwqn81s6X3yOc10j3iZ88WnWa3b5HbjaqNctyc7dFvoJotigyvYIbPx37d5zSbs9cvBe564jR76p+yDbueltPvqvMzjzcoZOKHfvbWn+R4bvtNjzSxK/qcZr/+awt74xEe3sRquB6fjy0tktO9UcdlBNh6qSxNrFYyVytrlWrXSa+U363TyE9b1SPzsM2cMx5j1bxKfJ+xxUqdbf7SQIDvBGP5PRkb9WfG6r1ym6Peg/ye3/oJY1ueCr8nq/7MGGbI91H9J3Ic5sfXXnF9YltSsUHJ35OxGZsZ26fc/6OUdkFN/+h7svHfVMrp1fiwIjUw9sSvNHlT5svHZUcYm9KTMSxl0s3l+0IuM7dDYuJlbBSPV8vgZew2fv4rOT3X8c17cv4wfcYnCbcTopiOaBdVxma271KZFI5iXVlQvvbwFro7IngvsXoNwzpRGBCwAecLsra5gGvSgeFK2J8CwGE+7KOc97ED31e6hmcHAL8u/ycZwIs2eWiGp1OH3o8Ege85NbkHAoDTAeQrcvmPA/ZPA861yX+CSTjqA15WAvivGWfwIR7l/A8+wGkH1OH84fz3glzAHAFVhDc6UcUZeyy87CatDG/eD9w2PrxXwkrl3bJQBKCgj9Il5OKVXYFaL+De9UcsQRH2zx0uzwU57yqMlea/yAbFim+v2bxnhVvDv3t0cwE98jB+xiSMkd63ZekFtzyG2dymUetQ/9okFOQPx6SZPEUR9n63GUU/LsD4h2dppjRWofjBchQMBPa/U4H9dcpb+lPFqPJ60cDf5tdWoKoB6DFsGmb1Nx6Y6fk9+T7t8X/scJ0l3A8D7HCvdyH/h+mY+Es5jbse8Fb7ML0aKHAEsXtnMz5XLFp1rz+sJ0czNMpRgKEewKqdfmk0cei0NORLvW52ZCtDCNnnOeDKUNqSkCgHRk514Xk+F2aoHa8szcT/fyQTz10RxC9eAZZtSQcfkYbTiUdKHbgMwC/+h/fq2HHzVC6LYfun/Ia3Y+RkWfbuarkBOLwjgJErnegZ0qUdtKrHr8rBe95W7JuNPI7XmYvH3twmDe+NXbhFy6geOc8B+vGTc4AeGeE9jPv+BdwwELhlvJy69gSAU8DER4H83sC+94FKdUjm2fBeDlW+/nsTH769D7hTUgoMGy/3oIx6Blg5BvjJGGCKkGnXnwFcC8xVejn5HBjhPhFSymX47TPyHJRRK4E18wCfG/jpv+Q5cvvukyde8V6bNzfIWRfy3qIM4LePAOBl4D21GcBMPny9DTig9Ny+8SzwIu/NtfjTEe2ivk6sLGJHlC9KeYTWJUIqsWfUyEk5LeS7JNLv3dh5myl/DjGgShky4SG9PECBes4dG0EePzzXDlzvAta65OO1TuBZO5ARAGY3y5NvxSwqYNEuMZ4fi/rVIYXvK4kOqLYo51F/70cv2OTzbw8Cv1sFPPks8CSf6NrGiWmJmOU6R3PujPJdZNZMR0U4H8bhv0Y9ZZCRNmvCelyFbcyD3MoSjOZd6g/yB0OO5IhU71oCIA891OtC9wiNFW+Wwd4IPfyyfDUyU3aeAGRl50nTakN2d8uRnBme3vv5fpQDmHBRD8DrhRd52FmxEzsrNiDP5ULBnZMALEFhlg2TV+9H4Sguq/VH1doq5nvahN6efeSH9+f1QXz+iXwv9TlXHm1w9XJge5kD27c5Q3a3khUpIMOBcb8AUBpAdm4TntsPDP2hrvnStx2iLGUujBTktOHEP2XbssUfGD3PgWE8gZtJtd5jkBP38KGrl+RGZfdrvKMJeOQ1fh7A848Cj4wQ5txJseH/1Hp0V+2XInK4s6l+svPk97WveJ0k8AnJOEd2Bvi8EO/XwAE+p7y3PDzidQEVrwNv/w2y5xVF/tEtwPiDwDfztIrkQyz6z09HA3VK4K5VAH4oOEwG6fX5peFQpfz8/qpSJtOHygMgW3GM1OEcrpN/nlEmAf95gXz+Z35+Cpj6NXCLkkeOseZ/sttFwzqxpmiS1GSXL0ZRQs1vxHQD5bcGKf4bg1TfCA9y3ksR6SM+4MVruNoF/Be/zxngsAsXuiKINzailf8JAiVBucflRTvwsqBf1C3qE8P5sahfirNJLybSIe/JUZ0bHhDNwZEyWPjPewp4q1KZPe0FeiXhBuRvaFzNJvWNSylfHX8rA3C+0LAqUe364svT+ETbq0x2eKIZ5XdjSVoOivNXoM7H4Nk0GReO5+/jXtTyxh0NER4UseKjKbU2Ljt3AG/pw5SEHnZOeUVRTkERhvcPSyJd63nj1qH6vAIMuP43KH3wWpT+eR3qqyaFTTHS5Yp4GtLJUygvMvk/yUB/8R6OmDtahB03L83A9txmjFwKTL/Th+3zGf5yd3q0TBHjPMo93iDul+J0IJ+/QDUp2ZxpuPdRH55fGsDu271Y+okNz89nuGd+AK9cFcSqXziwTHR4ImoDPH6ZTL30rT6cc1HIexn0kxCjyDGOEu7J7IHAdbp2QmzP9AKklRj3Awe/AM7TR+rP1dptlp0g7hi05+NXGmKJiXKxqHNdVCbOfsAT1wIPlwG/OgVUTgeePiKvKhlWCUx5JEk9rUlsFxOqk/ZUgJg3ieUT1UY41r1yGKS6THgjWOgPf2jz5GLvwywhrSpKHeqRGnwAl9gBydlREhwMAk7e02IHPve1lq/K4d/NPoBPdOPOw5/TgetV4bwR1DlFqkNhtAmcqF8SEQTU+X58NY/YiEZzcETbrDjuNQSo2gC8Vgq8tgFYqbw96HUJ7ZI+KvHzDKWLeBnwrZD7K/6GYsFyXj6MM+q+JDUucnlq31yBYj6V951ZyHYCXj93SrgD7MKAYfzJVIqqo2ojrMF1IVa8LMbwv98rDUUYxhkEJroC3NvIy6DZykVKZ07A5ZTDJ6wsC3O49i0ajZJDDSj7XRlyr5sG5qnDhhkFwIHJqJAmaxoYxuUKt50+hWiB6yz5nny+XJhAjwBWjW5KfI+SZh+WvRDE0KlnoeFDJ6YPALbPD+Bz8aEbxS69nX36y7ZtrxRfbAL4nHctCc5G/o2y0JFjghhWnI5f3OKUhnvueYjhuYkG7Z1OkVqPuQPlqc/l76lj0TyhG7WbdBOrdfkNT8X2SU2grtS5qyx8MuwHz0be54j3Vna/Dqj8ArhEcQx42OpYPbMZwLBrAZQBfBWk9DHqTleNi/A9UFn19574EvQ1oGcy7lfy8M1V9wMr+XDTRPl8/CrgwWRNmE9Su9jmOonAOO7gJJUvTntiOyZwAFXCHf+G0Mh83QI8oGha4QT6G4ir8Msrdf6kpJvpAC4R5N3RAvyDz/nwAEPEVkZJLwb9W2hEDviBTULkoYC8s6t6n1QEgU1e4CZf6+Ghi4U7+2Muk2lzV+4V4rgJqoOjPqd4mKBWsbJjvz5XejPMsuIWfuPzoV2lgeIbot21DVgz3VwHQh3GSeJqHF4sb6P8cCh7owJVH23B7Lv4UI4XVbsqkDV0glT0CXm/QcXRBmmVywbeUL61GWW7apB3Q/R48TKRBCn/vIf3Qp1J4FX798UEuuMt7+1FzaEKlBqtkNE5IDxr7UG+oVAtGlQDGhuk6Vi1fD7JRUXyXixrJ+BqvpLno30o+10hrp5bhAn5LnjemoDSA14+sQXj758tWdJDXIWks213pR+H3/fiL8fkoQ3sZqF35xOfK2EOoM9QJ0byeSEP+XDvC804cLAZ80Y345GbnMiP4znmVnsuuH4H8MF8Hw40Aa7z03HvZNmo0NAVgA8O+rD7Fa/B/mMMDcoEl5DjdEEaVknOjQ+7lZ5g77EA5gN47qF0jXB2mrxXC2y4d5AD+C8nZkjD0jaM0g8l6Tjx01A9HrwIf8wHyh8sRoVbTsivCe4gr5s7RtOnl/HW+/KKltXCBodH1J6KU/JDnOfhPQ18ST+fj3HVAg4DeGkZcNUWYKLiAITJPgWMv1QO2fdnYNEq+S/tUqDPD+VwtddCzffeTuCAsnz5BmVeR96j8ko93vMp3SfbgF1H1BzCtxfQB190rTxszLchUJjgcKWcZ67wEsZf0Pg+K5gO/JTPuRmkzGeZpzlUgibLDi1vF+OoE1MKp9x8b4kOIQDLy5eA8eLE46jHjT5hxUtT+CqVj3Sz7F9TVryIK2r4cUmzpuIzYUWNmq6BMfaZV1tpo4aHxAureXgcXy0zTtBVE2DsiC7/CWEFjiqPr7xpaNHyqjJ2KIq2CDJ5nte84at0JqvT8rXiGB21Z1aykbywMD5LftTPtJnuMzbEN/s+TEiUky/5bPeejOWPl78X/j1K4jZG1Sgz/+XFMW0UwljCnL/ZKa+04R7pqBVsW9lieZUKXzHxHWPVW9VzdaULWMGUx9i6rfulxQOx4sMK4vuMrRjFV/1osuTjMWyn0WoMxtjeJ+QVNXyFzd5/7mWzhPyz1uxlO5+eFJI35onNbP/b67RVOvmPsZ2VO9ljoVU6BeyP++oYq98vhMnlllaHMA/bcJts25gZkyQ5j5UZr8rhF9hTysoVvgqn/GVttcsVizysaq+H3dRHCSuSV7PU/9MjrYLhK2L43+1/8koMwxipJz4f2/jEaS190Wm2fq9yT/papFU5XMavpdU0p9nGf8ordNjJ5lCe258X2hgu1+djz6orh/iqnEUeVq+2J6db2FNK3JwnZPueek+NVI1izP33JnbTRm1FYv3e8HMtZfhRWD1+wxj7rpqtUFjPelSuwxVvfxaeSTyreEa7v996WzvGzxirqGTsUeXelFbpnGCMNTA2Q2gT+OoV3h4afcpmKPc3X+Ui/s2QV7yIq2jWvMfYi0u1dAuVlThblVVBYv4pS+UVQ6JOvrpEWk2j6OGrfFTM332qxT2q2PT2F2Ju+Xjr/PDVhxVLw89b52gVknA70UoCY8zKdjFWnRjZk2gYXz11m3DdjJqvrIBSBJlYvvbwRqLlYo1+xo74GPu3jzH+0Df6iI4Jvy8aA4w1GKXlDkKkOCPBPEzJoy4L9AVk+eqFzpPwsP/ly4cjyRDC/9fP2Al/fGmFbPEctqdi4pGflDQeZamiFcp4/XD57fy0lbNHXkkra9dfKz4PC8Xr43iOWPHtLJMnpLydgnTZPfX18jJkXbh06vEwj1FZxbS+oMGSXDGBwbEvwOpP8aW8BnGJBkn6DdoSXyC27RF0eU75mbvO1+b8EcRKwUb1yOug7su6+PS15f6rb5CXGEczzKw4n1dbuhvr2ommk9v85QlL2mFVbVvbCTV/2Hdb6iVMQIqfmFC+9vDWjVvE0dVytgO4KEY6USofteHzRww/fNKpbm6IYToxUJeHL+0V9fGkPOxcMU+U43OFYaUoybpslCuOPve2wuH1po6Nt1VGO/Kp4/+SiFbXkAsuNUz9FnU5Y8SLadtw7Aozrg0CImRx9egRedjAxWfRxPjw3V6NeETL5rSjB5/gbsZH0m/QZjjtsW2PoN/1Xw64zLJPp8OoHnkdZIubF+ryhJ225f7rIWycFibMghN+/6rXg/rdFjXc5niZtEW+2XnaUi9m22ClvA4uXySPoe1F5r+rc5+Q/S6vtKpLCKFDIkAEiAARIAJEgAgYEmiPj2soELxHZZ9NWyDAJ+N15MoWYysplAgQASJABIgAEUhBAuY7JnzYJtf8jpgUZEcmEQEiQASIABEgAiYTIA/CZKAkjggQASJABIgAEWg7gcQdE38w9fbxaHv5KScRIAJEgAgQASKQQgTid0xO8w3N+LbozcArwiZrKVQYMoUIEAEiQASIABE4swnEnmPiDwCPtGi/xntml5esJwJEgAgQASJABFKYQOweE/47No9nhG9Ln8IFItOIABEgAkSACBCBM5dAbMcEduAcO3B+lKRve4FsD7Cy5cwlQZYTASJABIgAESACHU4gireht035cS59MILAE0rcEwHtR+9apaMAIkAEiAARIAJEgAhEJ5CAYxJJkB0Yo8RdYgMs3ME8kgUUTgSIABEgAkSACHQOArEnv8ZTzvszgQlBecgnnvSUhggQASJABIgAESACBgRM6DFRpPJ5KPRJKgEv3+7f4o+3oQENjdYpslq+xXhIPBEgAl2YgFVtcLLbxWTri3XJxO9NBKKIeleZ/PoMTX6NQsnUqIYP/oDMzEJUWeQzNBwux1ibDVdPnY0J3TNhs83Gvq/MU9ZwaAtG22zIzMpCVvdMFE4thdtvKiISRgSIABGwjIAVbbDV7a4eRqq2w/E7JkcEz6RZLF4QWKRMfl0YAMLixHR0bBqBhn3Iumo2gMI2/9R7VFv8tZidNxq5W+uw/7V12MY82DzlD7h66pao2eKObNyHrIFjUfDiTuyv3InFo4CqtZORM7cibhGUkAgQASLQYQSsaIOtbnf1sFK4HY49x8TvB+7yAeIz4zE/wP+qXECOHSgCcIiX2gY49KWnc3MJNKBk/NXmitRL+7YGpQAec6kRLuQNKgIqPeB9JqFgNTrB75r1izHr7Xosvq6HlLNg62fwpF2IJQdqTZGfoDmUnAgQASKQAAGL2mCL2119AVO5HY7dY+J0AmWZgNvgL8cml3VmJvCvDOArFxDb1dHzofMECFStHo7SUftRvWUWgPoEciaQ9Lw8cOlLrs9ByQdueI9WYMLUckx6+Op2pehz1wAAIABJREFUOyXcitw7N2CF4pRIVjlzUXgbP8pMwEhKSgSIABFIPgHL2mCL2109qVRuh2M7JvrSRDrnk1/JKYlEx5Rw76ESFD44FhUPFMDVWGuKTEMhzlwUV21AAYDfXJWDzH7XYviWz7BuXJ5h8kQDXT3knpJQPr8b+zcBRbcUmOL4hOTSAREgAkTARAKWtsEWt7t6DKncDpvnmOhLTefmEvDWYMLA32DnN4+BP9a9zixZvkXOYI/8IkzK14rwh41bUGvR5NTaTcVYgllYcac5jo9mNR0RASJABEwikIQ2OJntrp5KKrXD5Jjoayclz70oGzMAWx7diUJnAxoa3Kg7up+7J6g96kZDo9lGN6CsKAu/ydmAuu8+wx9HAdg0GxfeWIoGs1UdLcOF4/dj5zcrkNfeyStm20byiAARIAISgWS0wUlsd/W1mmLtsEXv2/pS03m7CHhrsOItAG9di6yloqQqjM7LAZ7YD/ZbPvBi0ufb/ZjwFrDu4Bhkd3NhWnk9sqZmYcLaLahtnISCbibpaazC6H4TsOGgB8PPM0kmiSECRIAImE0gGW1wstpdPZsUbIepx0RfSal47ipARV0d6r6sQx3//qYO2x7ljkgRth2sQ/0UE50S3g/jluevZIbc1h4YP3MDgHLUuk0C5HdjSfdCFFV6MP4SpavE70bp6gppZY5JWkgMESACRKD9BJLQBiel3dWTSNF2OPTo0dtL56lFoEd2dphBuXm50nlu/2z0MLkWXX0KpRXgK97ci/H9h0t6qt7bDGAWrr4ozIw2njSgbHwOigEs3leCJW/JG7ftn1ss7Z1CIzptxErZiAARsIyA1W2w9e2uHk3qtsMmP9L0Badzqwi4unHHpAHgE1LNrsVuBdhwcDMmDbwWtocLUJRfhfIDk7Ctphjh7lHbSlezcTYmbAIK8oHiB/lGcepnEqqvM0ODKo++iQARIALWEDC9Dba43dVTSOV22OxHmr7sdG4RgdxbVoApG+5aoaLHJWOwmTF4ld/JcXUzrx8jb9w6sHHrrDCbZBIBIkAEkkLAijbYynZXDyWV22FyTPS1RedhBMx0SMIE0wkRIAJEgAgYEujq7S5NfjW8LCiQCBABIkAEiAAR6AgC5Jh0BHXSSQSIABEgAkSACBgSIMfEEAsFEgEiQASIABEgAh1BgByTjqBOOokAESACRIAIEAFDAuSYGGKhQCJABIgAESACRKAjCJBj0hHUSScRIAJEgAgQASJgSIAcE0MsFEgEiAARIAJEgAh0BAFyTDqCOukkAkSACBABIkAEDAmQY2KIhQKJABEgAkSACBCBjiBAjklHUCedRIAIEAEiQASIgCEB2pLeEIv5gQMGDMCCBQvMF0wSiQARIAJEICEC1B4nhCvpickxSRLyV199NUmaSA0RIAJEgAhEI0DtcTQ6HR9HQzkdXwdkAREgAkSACBABIqAQoB4TCy+F6upqDBw40EINJJoIEAEiQATiIUDtcTyUUiONjTHGUsMUsoIIEAEiQASIABHo6gRoKKerXwFUfiJABIgAESACKUSAHJMUqgwyhQgQASJABIhAVydAjklXvwKo/ESACBABIkAEUogAOSYpVBlkChEgAkSACBCBrk6AHJOufgVQ+YkAESACRIAIpBABckxSqDLIFCJABIgAESACXZ0AOSZd/Qqg8hMBIkAEiAARSCEC5JikUGWQKUSACBABIkAEujoBcky6+hVA5ScCRIAIEAEikEIEaEt6CyuDfk3YQrgxRPPtp+mHumJAomgi0MUJUBudehcAb7vJMbG4XubNm2exBhJvRIB+o8iICoURASKgJ0BttJ5Ix57ztpuGcjq2Dkg7ESACRIAIEAEiIBCgHhMBhpWH9AZvJV1Z9oABA2j4xnrMpIEIdEoC1EZ3XLXq225yTJJYFwcPHkyitq6nisaLu16dU4mJgJkEqI02k2b8svRtNw3lxM+OUhIBIkAEiAARIAIWEyDHxGLAJJ4IEAEiQASIABGInwA5JvGzopREgAgQASJABIiAxQTIMbEYMIknAkSACBABIkAE4idAjkn8rCglESACRIAIEAEiYDEBckwsBkziiQARIAJEgAgQgfgJkGMSPytKSQSIABEgAkSACFhMgBwTiwGTeCJABIgAESACRCB+AuSYxM+KUhIBIkAEiAARIAIWEyDHxGLApor3M1PFicK8/wmgoSkoBll4zNBQH0DDf5Klz8KikGgiQASIgErArx6Y/+1taEBDo9d8wXFIbPi2AQ0NydNNjkkcldLhSZr82P5CE1w3NcPsS6Ph02bcnNuEHpc1I/tiL6581IsTVt5cx5pxZa4H2YXNyL7MC9c0a/V1eN2RAUSACHR+Ao1ulK+eDNugUvPb6ENbMNpmQ2ZWFrK6Z6JwaincFrbRYmV5D29Boc2GrPOzkJWVCdvtJUnRTY6JWAupePxNCx5Z1IJ58wH0MdnAphZkjwjgspUOfLDVgflDgY9fCeKCp5pNVqSIa2rBNT8LYMa2dLg/TsdfHgVQHsT6yiTdZdaUiqQSASLQlQm4KzB7ZjGKHywF+mWaS6JxH7IGjkXBizuxv3InFo8CqtZORs7cCnP1GElrrMLVeWMxu6oO9fV12PbEJGDTb1D6ntsotalh9CN+puK0QNj56Vi2NB2v/KcJ9zSZK//wJj+mv5SBBUMckuD8tX54+rVgeTWTvH6Xuerg/YZh+d9dGNpX9odH/oph5FIfGkwul8lmkzgiQASIQGQC2cOxYs1wlDWUYkJj5GRtialZvxiz3q7H4ut6SNkLtn4GT9qFWHKg1pI2WrTR667HihoPhveXnwRFM2ah6OFS1JtcRlGnekyOiUoipb+tmYvR55YMLPsv2SmRiu90oKAIgEWOguuCDAwVOJ/4wI/tsOFP19BlKGChQyJABM44AmYPsssAcu/cgBU9ZKdECnHmovA2AI0m98wY8HZdNBzDhXD3rg0ox2KUjsoWQq05pKEca7ieEVJdolPCLfYHUFUOjBzhgNm9JSIQ7zc+PL+4CRfcyYABgCcgxtIxESACRIAIcAIu0SnhAX439m8Cim4psLSNFul73VUonTkaOdcvAfIBTxJG3skxEWugix9/Xt6C5bBh2S1pFpJgOPxJED0uteMmrqWaof9Mr+kTxiwsAIkmAkSACHQIgdpNxViCWVhxZ17S9NdU1iJr0BiM4RoPFOPCu8osb6/JMUla9aa4oi+86P8QsH1/JvpnWGmrDfnXZuDmG1149Ug6lvGxnfIgDls039bKkpBsIkAEiEDSCBwtw4Xj92PnNyuQZ2WXtq5ABTeMwZhxk7DZ9xlWjAKwaTNqrBm5CmkmxySEogsfNPlw89Agnt/hwtCsJHJwOnHzLUnUR6qIABEgAmcigcYqjO43ARsO7sXw8zqoAM5cjLlzEmB5fwkQwzEJArM9QHaEPx73tq+DKJFaUwj4/Vh2sQ8jt7rwix8ql4Pfj+dfMH/PFCN7vdL8ErvFvTRGmimMCBABInAGEPC7saR7IYoqPRh/idJV4nejdHVFElyEcD5efx2AMZb32MRwTOzAikxghWDcq2mAOxN41ga8DOAuP/D7FiEBHZpPwCaL3C0v4zVPfgCvPNQCvkVKw/5mLFvtkf7u6NeCw70smAD7RTNuHt2EV6rk2VNedzPungk8vyM9aRO5zGNHkogAESACKgHFYXhLXsarhrb/uwFl43NQzNvofSVYsmiJ9Dc2LQc1fQZY224e3YLRBZNR9kGtVAzvVxWYcFc5NhycYK1eAPGt0xTnHPy34svc4ATuU3pLng4AswCI6dpfIySBE6hvwbxiP5aX8xOGERM9WL7UhaHZirPSDkqHtzbjnnLgsgHA/Pnh290fGBLfpZGQ+gxgezWwfUwL7kELLhtqw/J9vCwx/OOElFBiIkAEiEASCXy7D8X3L8aSTVxnMYYX1WPFmhUY3qv9NtRsnI0Jm4CCfKD4wdmCwEmovs7iZbsuF8oPlKL8qlJMAFAw6jGs+NKD4b2sn+CS+NMn0lIhYTsM7GkG5gWBQwAuAbA8DbjcCdS2AL8PAN8HcBrA9Q5gj7BWNMMO5DFgDwO+7wBmpgsV0UUPs9KxoCQdCywofv8bz4L3RgsERxKZnQHvEQZvgAEOO1yJX32RJFM4ESACRKBjCJx3FRa/tg2LLdCeN24d2Lh1FkiOQ2SvIjAfg9fvBZyupLbXbXw0BIE3BQ9liVPre3nDA9wH4AY78Pc0YEozMNoHvKg4IqcDwJ8UKMvSgZ7NwAhlA7FtTuAyJvfE7G6jaXHwpiQdSMBpg8vZ/t6eDiwBqSYCRIAIdA0CTsDltL6HRA8z8T70oc1AdjNwn9L1vy0NmKTse+H3y04J1/IQD7MDfCdR/rnLB/gdwBzhoXSUARcJJnzGgJMB4BI70F8IV0TQFxEgAkSACBABItC5CSTeLfGiHbhL2CKdD7+on8+FYRlVsjjvhA/fXMwjlLkpFT7gfCHP237gCAMW0BCOipS+iQARIAJEgAh0JQKCVxFnsfulA5uFXo+fNcvzRXh2YXQnJO0cIW0TA5xObZXPwgDwAIDNihlvMuBpAFeKE1ZCkuiACBABIkAEiAAR6OQEEndMmhkwOB24QSAzXdm2M0cQp/aY/FtY7XG+4qQUCY7Hw05gsJoYgDhfRVBBh0SACBABIkAEiEDnJyB4ElEKK24X/hEfeuH7mwjOxJtB4A0/cI4TeFCR87YyRPOlcj5XmCB7rhP4pRJ+C5fjAOYq50WCXCWIvogAESACRIAIEIGuQSCGYxIE5nkAcfn0bD8wrwU4Jw14VRim4Xua8Mmsv8sAHgaw0A9M8QBPAJjrAO4XfxjODozjeW1AriJjuHKeI8jsGnVApSQCRIAIEAEiQAQUAjG6J+zAgkxE3ETjGhfgNmA5MxP4dUCee7LKDpxt4GxcngF8IeTlvxwnngtRdEgEiAARIAJEgAh0DQIxHJN2QDjbAZwdLb9Nt1Os/jxaXoojAkSACBABIkAEOiOBGEM5nbHIVCYiQASIABEgAkQgVQmQY5KqNUN2EQEiQASIABHoggTIMemClU5FJgJEgAgQASKQqgTIMUnVmiG7iAARIAJEgAh0QQKJOyb+IPB1QP47LWxNn+rwuN0nzyB7RZ5+wNvQAG+jGGjuMZff0Og1V6hemtHOwDxNEsqnN6Wt5w3uhqhZY8VHzcwj/V40NCRYD41u1LoTzBPTEHMSeOsD8Eaq9/aosEJme+xJhbz+ZqBB3HTKBKMaTgHfnmq7oMZTQGpemm0vk1HOJLRhSWmjxbJFuseSUNb4HRN/AHjGA/RqBi5tAaa3AH2bgfEe4HAKPvBPCTbxHxfkdg9oBt4VfptHrIQUPfYercDoNBsyx09AZncbCheVm3qfNxzagtE2GzKzspDVPROFU0vhjnRBtpVRoxvlqyfDNqi0le1Wl6+tJuvz7Vs7GzabDVmjNrcqA08bK14vz/i8AWXjM5GVlYnSQ/G25l6U/jQHF+Zcjap4sxgrNzW0ocqLm3Ob0KOwGYdNvOW87hY892gTbt6g/N6WqVafocL8XwNTJwBpFwAvfWpOIRqPAAXZQNaPgPN/BNhmGm8NEUnbtx8BRdcB3X8EHDbZWYqks4PCrW7DktJGi+xSoL2OzzE56QN6tQALIe/46s4EyjKB3XagAgD/xeFNKdRQ8BvhRy0a6oCwLf5J4VhLkZpHjVUY2+9a4On9YOXbwDzVyJ07GmNXV5ljb+M+ZA0ci4IXd2J/5U4sHgVUrZ2MnLm8Uk36uCswe2Yxih8sBfplhgu1unzh2tp1dtXEYqwbBSBHVwZFaqz4eJTve3ICJmyKndL9QQVqQ06IC1cv/CMee2IxcpP/6+Thxvr92L1P9mp7FLgwf74cbZZZJ/Z5Mf1//Jj+CpAh/jhouBWtzwS7Wkd2XMi+N/cZOrlxW/TVR8DRZsD5PeD3M+RsLjNonwK6/xR4+B2g/l/A1nkAyoCn34/bNJz3Y2DheDm9dZtSxG+PVSmtbsOS0UaLbFKlvWYxP37GejYpf57WqV9S45oYOxhoHZ/skCNe2dbJ3nDNB5sZ29HCmC882Mqz+fPnh8RfcskloeN4D/Y/XcSAAra3Xsuxfw0PK2L7hTAtNrGj6qeL2Ky3BUG+z9hjAMOodcygphMTrku94TYud0OYXLPL117eOpO1U+Wa2TyldRmkRLHiNUkRj+q2PsY95tDfuoPGNeA5uEG6JqqTeB1HNDosIsA23n+aXfF8Syi0ZstpltHnNKsx01afj/26z2l200ZNT0ih4UFruwyTJTmwumwMA9a1Xet3nzKGnowdVET4lPMXP227TDWn51PGturkjOrJ2Iy/qyni+z7yN8VGXVscX+6kpGpvm2F2G6YvdDLbaFF3MtprUZ++HmL3mHws9IQsEX58T/WyfiKI+L0PqGuRt6LnW9nP8wKlXiDbI/+JvSrq0JA+rlbI//tmYE8z8DOP/HcSwGk/sFI553n5tvfvKjbWNQNDlCEc/vs9fJiJx/H0W4PAR37gY7VfOQi8LNg2xQvUKXnf9gKz+Vb8HqC8BXhZsZ/bscfscQ4VpP7bi5q3yoH8CcjrocXlXTUBQDn2Ho0+10HLEfko984NWHGdINyZi8LbeHrjXoHIkmLFhF7vhYTWl09QFvGw5p0SFNpsGF1UCJutEGWHBK7eGvzhdhtsaYVSmrFrAXQTRMWKF5JGO/QeLkPOjTXY9va6aMmAo2XIHMjrvwoTBtkwelEFvO4aVLxRgtG2yfJQTqNbOh9bMBvlH5RjdoFNGoKavHYfvI01KJnKy2mD7fY/oFa4lBs+KpOG9Hhc4e1LUCXs6Fz1UjEKC0ZjLGdUUIyaVtXJ8JdpXtxTDnw83wdXbhO2u7WeycOVzbg3t0kKv3l1s9BLwHDgDY8UzvPcsdqLE4JNxjAY6o0i/H688mQTrpzYhJtHN+HmxVxPdLu4GO83Pux+w4M7Fntx4H2vbOMaubfV+0UzHhndBBf/y23CsjdaZNv9fiybqOia5sXhL1pwL9fJw0Y3Yfc3AOpbcO/EJrgmelqVqXbjZAwYvwXAZOm6WvKODJsPCUj1JdVZIZa8FKFHxX9E7tHgBbjzOqBolfbL7u5PgdUzAVs2YJsg96iovL49CBTx8GygYCbw0ddqTPi3qx9wQz8t7Kv3gbcGAjOvlcPcR4CXVgEztwDvrJflPan0przzrCL/OqDfJE2G/qjxa+CdLUDRMuCjnXKeomflcvBhpJkTANt1cviiLdo8lUUTgAL+NxM4fASYysvPz68D3uHlUYa1eNm/0is1+9z6Nix5bbTIptUNzu8Uy59HogUQvRbDY7FH5CWDtxRvS3iPii/IWInQi3Kth7HdHi3Na1yGn7FrlTRHAox9pMRL8nX5Q701vEfGz9hkJd9nQcZONGtyeW+Nz8/YXCWe661pYex/dekkHQHGZinpXvMxJpbh30HGfD7NPq5/rkfTy8/jfAPUe4GGfCMF+qrZJP4GfVt4L4Onhr8xg41ZUx0pZ9vDfXVSj8n/Y+99oKOs7oT/z4RgJltdEg/WpC9rwcqWsNAmrO4W155qELckS/c1FHZJVk9tgK5/X/lTW1/yomJQlwbqiyItEO0Pm9hKiWehgS6Y0B4UfBfehBqWYOGIiqeJYk14jc6ETHJ/587zPDN3JjOZSTIzBPKdc5K5f7/33s+9z53v8733Pk9RwmV7VD8NPAntGzTvM/V+lpWHLKtR09oCBVXK77NZ8HCDZeU5e1CV+K1Jdn/Eio+3F3re9vdz1WGPUmesvtX9G9li4lENqy2LWcOZDuXxKHW8sUYtn6MtLSXquEepjuYdqiTfsbyUqIbmJlWzVLfLCnt2Z5M6WGtZZ5x+7mh+VkG5avpEKdXRZI07lqu39Tg/s8Oft0HHqTZVmV+imiIYczxtXvU32pLx027V8allOXUsJtpqsue/zqtXNlgWlBdOWfHNP/tUZdzj8fPueNPjt65kPB7j7rrnvFoQwWLS/qqW/ZnVdx971d8Uefz9FqleZte0vvqZVe7ET1XGdz5V3yv6VGX80Ks871j1WfWqNeedPmCns+vn+S8r/nv/bk0GnlOW37Tk7H/8U/WDAxEmi542VaX7aM6z6u0Oj/L0KOU5afX9yp3Wdf323kqrz5bWm9UNuhufs6wRje8q9YlXKcdioq0oa19V6vAOK37ODivPJ29a/uZOpVSnUvOvtvxngiL7uT75QKnNj1rpKFVKW6P1Z6ddti5rzlKl8q9WavGvldr7pC3TTrfhu5a/JUKftrxqy9X1KFVq8a1KsVQpba3Rch3rzEkn3ZPWvOu0Q5enP076OTWWX/9vfFKppQeC/gFcg54zTFlJmMNM8RHdSZujzdJSM1+bJYb3g2HuCNFXgp5Ya7khRhQFvS64Kpidejd84zIotMN+2gsnfHDM9k9Mgy/Y79JZ0Qu+sPxvZsA2F8x1WelO2/lO9sHn04Nyj/ZC+hjIt+P1ywGnjIUrXdafHez/OtUDP7cD9NuMM9Jhru1f1wPpaTDJ9hfq9wW54QcGKsfoYidJypePyHeGdmGRdNrh1uP09grWsJyqO/KGKyp2/gvQvn6VujybIqBgom01cutOt/ZvtO9/ljUU0bSqEP+q/fiZzPNbkywpseL7lRUloHHVtTRtaGL59e7gXaG2WUXcK+Amd6KujZvcnCx0krxbSrn3juCdaVZ+CVUPaX8RTZ/soDC/gNIl1ls4nz3cwb1zC5i5cAWVgfp0suOu+yB/Em2HGmk8fBqLxjp2H/Pi7bTsE427WoEclr9wL+4IVg33+DQmAhlXucj6M+NaAX77+z/jm1PH8t/nW5NFu7ZMfnbevwflq1Pg6GvdHHVu3qt7OTqEvZId2kqB4jd/6IXsDP6/ZWl+68ZA9dI5pszK5OiTFow3fvJn/KT+z/A+eRm/+Ym2nrpYOst6+ejEmzL5zT1AdS+/eLcP99Sx6C00P3vFh7axub80lqemwm9etPz4eni6Gr7ztQgbLNKzyPUbJLLJzXLjTofda7UlrIoVc61rb9LslTQ8XAA/Lqb2VISrPfdqq9JXXQ2XG5P02n3w/VlwfQnobSd73rOsEC88BcyCsy2wrwW7k+GVFktOpP+n/gDjp4N/3DfA5IetMTr3bthcDBRD3Xr85rXNN8BtT8OGfTDBrs8cnSbKZ9osaFlvRbY8D5v3Qc962LMJmA6rbOvMdbNg54PA07D9Pbh8OqyeDltqQZ9S1NadtbNgTz3+jqAblj0N99wUpeAEBl+AOSylc7SJKsVtDZ1BzIo4bnOSMMa/E82nARdMi/a+mzQ9T1qfYwqajRMzEzxQ4Pi1YmPI084r0+A2N2xxW+4t6bApDTJ6YUW3tfnWzOJMmma9zHjtNst35o0v2ImOOnWx/QO+7ydccAL97mxudJQsQ6yzte3G63KN0AQ4T9VybWkTDWeryHMKSYDYqCJS3b5IFcmaSb3yMOmwXgpxMeMBbV7P9Ssix/evAfLIcsaHsQChRcWKDy9OL9f4l1D0Mor+W1KL91Qts56EeRM6aNzXSN2e4KbjmudrGfAEsDPOtZHVF7q4YfmtHzx/PbIsVcMdUHbcTNIbefXH28buo1BSOgk3XrxeN0WNDTTsPci8KW7cU25EqzlrSqfici3ioPtG8szlLFuM89Vtzhd2YJYzb4xP4zvAG+8rvO/38Rtg4Rdd6N8SLy5+U5vOb2rHot/nOdjPxBusqew7f9/N3z7shZmXBX57taxI9QqUYZcXGPa+Xpp/oXU7l6WU2gknfsW6gfL62ziGf/7fWuvqs5Zu2n388LgeGIrftkPnGz5+syydKYHxEyitv8PXTpNeJpxvjT0nwaQbrLs5TwS9xEnT7zsn0Aq4QW8+PQz6GPGeBphv/1jrBsz/Fez9Fdz+l/1EBALyb4LbS+Dld2GtVjJqg0tDRjH+9HoJSX8mjLO+9X9jjAYDDVd6mBDN6nAtcI3WvYOfvOmWu8seXAvvBhqCSzcPNVj+/R9C52tw9BG4Lpg9aa5Uz2GpnqNNcClua+zLZrq+GLVVEfDflZi11WHGD7m2UkT7mD/w5uR13A1/DuiTM2PSILxGWlExw/5fH2zssywu29Lg50b5ZtlmeWa4dpvl++Nc4FxP2pJjXlADKTjhchPqt++qtp/23wjk2LI729r8rpyrzCt3mAV3NVM8uYyaFg+F44cpK+7sKWxftDr52lkzNpeK/CraehSe7Yu4tlT/yHs5fVRn6gxTRxxBseKddMa3z2N49ATswWv/4FSU2HeHRordT5ZRs6CE5fkJ6OfxkygxZEd05hRQODvMUqavg/Q8tn5ynIJlZdy3pZpZedX4LS/XG3uTIgqMHBhQoWxLa85fXcbNXwqbN/zlRs4fLdT9JTedr3bz4K29/OwXfeT/4jPe+K8/I/+yaDkGClfWFPGZZSBwemDiFGMuBCbenM438fHS7m7/c50efDKNzof7+NlOLyf+XfGLasvaMlBJVlyHNc66PJaVx84wafqM2FnDU5hKjE8/f8SuvVYmu66G2WGWBHOuC5cV8GfA7cXwUH0gpJ/jo/esIEd56JcgzoCP7HRmvSaGKU/aiqJv2l56FXgPlq6HrmWwZQccew3qfhxnYcNNlsI57ILM0SafFLYViG0x+apxca32hf5o63qb1oflRlqnTc5Sj3+iB6algV/ZsRO09EG6trSkwTs9/eU7cvR3dw/8va2UPH8Z3OYI1zbksMnNUSgiPQTOLN8vog+0pVp/9JKRqQgNpODYWZLz5abgdn2vWsFx52IF2t4/CJQww2/ST0DJ+sf5ihkUHfZQOs2exHztVD/TGOVHOQFl+kWkqH0DVPf0rioq9L3WvuXkpBuWh3Q3U2/RJr5qmgNmdOfnSU/1seL7F+qeMo+2M23Bv/1lZI2fROXSlVSurqRydRUrFztmRSB/JYUTgmXQpQQjAAAgAElEQVT2k2iO0X6RYQFeb/S+THf7Vy3r7qwO2dTa+cY6ijc14z1aS/WJSdy7uYm2QzUUAPfV6jEY+RPxGK9xmWbb2dz6mge+s9XcDAtvPPMZP/lDlJsNo8jwck78wsOJCRn85LSb3663ZP/CPrqss4WnN0T1d6aPIV93xW/7eMe4ifngjHWD5nba8+dj+ddy+PdHe/nn51z88J/dfGcZ/ObJPh4ljW/mhM1J/Uuy1AZn0/meOuMYOLSf1iYYyByor8PjzCGT7txtZVhLN3vuCX2mSOcRuEFbKOL4+BWF6TAxijlrgq08HDCWhpy6pUfJE6nYW7SVpz5omdFpPvrAShlo2zhY/SBsXwYlT8OqUlj4Q9jzGKwC5nw+kuQkhKVoDrtgc7SJLEVttYuMrZgwBpqdKxF4xTil8+F5uN+WVJUOUyKIa/RZJ3V+aqdbNgamGfL+6Tz8X73nwwM3mWqynd4M+qMxYR31wXYj8liv9WRXZyJp7IPtXvjHnv7LQ3/lXDHA77VMBc7elX814nQVHAUn5E7ErluSv/Juv9d/p7tik23i97Wy7s46ijZXUDCAOT3+aukHeuX6f5w7D21kzeNr/H/zxubSOnGqc68Vv7ioKe0ZZc/pkB/I5LcvaoX8Ed4uq9NrX2mk+UgdK+7USzlemvc3kn2zXvOHsrz7aDzVSeepRmr0M0b27KB2fyt5cweON4eLX1B6FjkTcoJ/WW7IKWTl+kpW/q+VrPxfy6l8yJKp09e8VElBROuV/mmv4+CRVhq3hCoTjkIdmL+dofx+K7u1/SfwZF8vbXtg9+k2SJ9E2Wb9K7yOqTNXUPdGM40vVpA9s4bKuwog3cOixTX+fsv5Wikr9BJQtqNe+FsW8u/f/7OXE3/o5mf/EZwn3nEU64/6+JlWEnSOL47lJzcDv+jjGw97+W3Lef+pmpvXp/HPUyPMIyGlwL+/b1txA+GKR/1zUxpfu11bMiBL7y+zP5Hq5cR5HUtwYFpK45uLrLzfs0/oQB+H9F7pm9P4719y6ufi5hLL/eBPxvqXjvKLLP+jFemxr589jTSeaKb2mUZmLavyn7Yr/5GznOfl4PY1MKeGkimBHnWqHPzWisC+WnjLfm5Ts2250Cn8yyK2xfkeez9H3j/AK69ZJ2Ky/wG2RNgH4nvPOuny0hHrRlE/wC3vHtj2XPBUmrPO6IyxLHsvypZ74JnXQD/x9ZUdVj231UG7MzEHq+5PY3j9zjn2s0/uej54k3pIX5ezYL5xUmi2Xe+lNZbS9XXbv/rugJEoXHQy/Mmfw1I1R5t0RsB8be6MHdDd1WOcePks9JTKkbCd5y/bJ17MEzXavbE7WMTbxokaJ53eMP62/RwSJ0x/B8Qbp3l0uD4ts9Aoq7XX2jlu5v3AOIHjhOuTN53ng3kdGf9hF1RnyNR5XvaGntIJf0ZKsFUhrvCdxiGR8XrONFinQfKLVAGootX1Ic8CiVdMpHTHa8v9O/8LAqc4nNMc5f4THpHyDDrs7EG1cr4+SWLJLpizXDWYJwES2L5B8z5rs9V1m1Ol6mvtkxCsVMc/Uer4TsfvcEEVLF6ptu5s8vdBrPjBsnJOXGlWNa0Rjr5ogWcb/ONApynZcFAd3Lw8wJb85WrXr54NxBfMr1INh+vV8kD/FqmaxoOq5uFgf5RvOKiP4oSc3NEnfOpPWuUH6jSnXJXr0z/5K6M+Q+fQT61TN/oUzr7fefyndLQ7o+gztf9Nr1qlT7xovz6l09an1LnzIWEZ3/lMtUY4wOFw7GjyqAXfCcpY8LhHtduXrHMC6B9/+Kn6R31qZ6112kfnNet16OM+R5xSqk/tN+qsy2/+OBgdOLFzz2fqe7rc73ymTverX4/6QcizWnxqVYg/KM90dTRWBfrt2UNt/qjjO+2w+cst1nOq1NtRhoFSH1inYfQJlm/+RKlyfarFPmmz7YBS2+wTMjrsYfv5I7VGmA7f+65ZpaC7592gLL/MUqUaPwjGr7VP2+i4OY8qddaO0s9W0c878edxvm9Vau0Opc6EgWt83khXqtRhPfnbn1bnJM53lVqq22WcCHLS6G99ksccMDptpBNAZp4w96DnjLD8fm8C57Bw8SmZo81CUzhfm8WG90Ps48Jmbu3u8il1skepP/YopX/0I31MxUSPx65epTojpdUKQrS4SIJ1mJ3Ha08wPb2W/IDyopTSYX/Sx4ejyTDC/+RT6gNffGmNbPE4w2HHkydaGo/HOlYYLf5iD09E+4bKWx+7DXzCx0yPx38s1x8fHqcDY8UHBCfQocuMVJdhFuHp6FAdHSYMQ6A+0hoCyogznB5vpOvcSNDP2ac853yBI8b9ogcb0NOrPM7cYOQdfL3szD29quPDHtX+8QDtCu+LcL9RjxCn5hmetsejOtraVNvZKP1gCtB540hmZlEer1Idnf3LDUlke3TawcrXWXU+p13OdyT5scLOfqBUm6GwhKcPlx3uD08fwT/UOSOCKP/1kYzrMlJZFzosEfO12YbwfnAMcaYdZ2D358bE3vFsStXmUb1/JOJHbzoNmlsjJukXGJZHH+01y9PpddiV/TJGDrgyYL+NHD9CQoMnKkZIhRJcjQvZvsBhFd2mfmPJON0SHudPHyM+wZz84tL1LpfEf9xZWdHlpoM7/BRFhCq4o17rERL7g1y4/3xM9HKjZYsWnp7mP34bHj34etkS0tPIuira/OWkCSst0jgJS+L3hgw8R5abrBxnq3ukTEaYLifespxs7gzQf/F84k0XLsvMN9j6mbLGx9grEi473G/KSoH7Qs5hKWheSBHJbmuMKy6kLvF59Ht19Gku53OnF4bxckpHjHwLASEgBISAEBAClz6BxOuY2qJyyBXcgKR3AV6wky2XfgdKC4WAEBACQkAIXEoEEq+YaFPupMQbYi4l6NIWISAEhIAQEAJCIDIB0SAic5FQISAEhIAQEAJC4AIQGJxioh9WFumBZReg4lKkEBACQkAICAEhcOkRiE8x+dQHiz3wpW7r71YvfKyP4ctHCAgBISAEhIAQEAKJIxDHHpNe+FLwKY7+ovWL+KZ2w/vuwR9XS1zdRZIQEAJCQAgIASFwiRGIbTF55Tx8Lw3ez4R3x8Jch0CENwE7UfItBISAEBACQkAICIEhEIitmHzjMngsw7KMZKTDfREeiLbXCzkeWG+/r2EIFZEsQkAICAEhIASEgBCIrZiEPxn1bXtvydw0+21cfbDWDlvbG3zpnbAVAkJACAgBISAEhMAgCcRWTEyBPl/wqa7/5jzWOA3/K3B1umkuW1kxM4lbCAgBISAEhIAQEALxEYhj86shaLO9CfZQRui7aO7JhLI+GDc4PceQLE4hIASEgBAQAkJACBC/JvE7L6wG3sq0nuzq64HnjD0lopSkZjjpR/wn49N5Drq6kyE5ssxUlxe5FhIqBISAEBg+AR/gn9OGLyqihGTLj1ioEajLj/TxdVvtjhYfKU8cYfEpJie64Z+UdTrn/3TDK93wTV0TeyOsVlr05ldTUYmjcEkySAJvbILM2ZBI5eREA7hyYMljcMUXwfUYvJ9EBeVYvVVe9pet8pbUQoIH9SCpSnIhIASEwNAJnHoNxuZA6T1wRQ483jB0WZFyJlt+pDKdsPdbYEkObGpxQoLf+zbB2C/Cknus9u96Lxg3TFfspZzT5+HmPquYn/bBT40S140B+uBxe/Pr6l4oR/aZGIgS5uw8AjMfA0oTJhLfe5BXBjvfhLn6FeNPwhI90KbD7pLEleNI6joC08th268gD1j1bdiyDMZfA0/c5KSSbyEgBITAxUGgqwUmfxs27IP7p4P3JGR+HbJs/3BbkWz5A9Vv/wvw0muwBdjsDk15tBZuewwOvwXXj4NjdTD9b4L+0NSD9sWwmPTByt7oQv9CZ0+DIieJC7SuIp8EEzgHpf+QYJnARyctmYExlwE3zIK2RJpkjGq/8GPY+xbccRNcfxPs/E8r8mjiNG2jNHEKASEgBJJL4IWngOlwx3SrHPdk2DwLHngKOhNQdLLlD1TFW+6C5x6JkOIc3LUMeMRSSnSKacUwB1hcFyH94INiKCZpUJsJ7VH+rrQLXJYJb2XIk2AHzz++HM98G+bsg7q7gXPx5Ykn1fjJVqrbvgJvfAjaZLikAR66IZ7cg09zx3Mwe1wwX/o1MF97A5pRME5cQkAICIERTaAb9jRAfglkGRWdOQ9ogFPDnauTLd+oc1RnhGV974dwFFhr/k5kwMJiOPoqdEUVFndEDMUkbjnWiZzYC0ODEChJ/QSOvQAPFFtmwq4EWxa0YtD8nAV65lcsk2Tdf8JCW2FJdBdkGUqJlu37ELYDt9t3G4kuT+QJASEgBJJFQC+F7wEmXx1agvM72PxhaPhgfcmWP9j6OOnfsfeb5ITN52h/A7wTQZlx8sb5nTjFJM4CJdkgCOj1yukPw9kHrUzp9kBwBv4gREVNmj8L8o3Yl+pTtxl1uzaD3g13JEkRMpolTiEgBIRAQgkke9N+suUPFYZTrySt+OtqJfInbqjNlHwRCXRDydfh4V9B+jno7IZTWlP9PJz6ECZ8Hi6PmHEQgeeg6MuQ+xwcuB4W/A1sfwy6xsHuBG6yjVSjU3VQ2gJn98lKTiQ+EiYEhMDIJuAeF3pTF17b6/SBgmF8ki1fV+2jFljfANn6gandkHU9LI5xECHHblfEFfjpkOM8fHXobRfFZOjskpvT+wfLTLjn2/7DMiGF5X0F1u6D7w9zCUQPSm2KbCmGyzNg91uw5MuwpR66ShOg+ITUOujx7zS/B1rehfHBYHEJASEgBC4eAuNAG3u3hy2xt31gNeGqiL/cg2hesuUD3nOw5zBM1nX1woQ4rNdZ9tJVq26nkd6/xHNNQn43ZClnEMMkpUnd06HtTTjzpvV99k14WCsis6DlTVg8TKVEN6bdvqAC6uk4WKb3nDRAe5Jaq/eVXDEbDr8L02zNWoc981qSChSxQkAICIFkEMiA27Vl+Sn4yJD//hGgGCYO13KQbPnAhJuguQZeroaXa2B9sdEQw2nqWM6hhSd1O51PNxxqgTnFCbGAi2LicB2J39pkppds9Pf4z0PeNdYJlimfD90FPtS6T7SVm12HgxIO1Fv7Pq4LBiXOpY89f8USd+h5ePxp62/sV2DiXyauGJEkBISAEEgFgdvvskrZZN9Y+U7CnfWw+cGEWA5Itvx4Gb1jW4H86TNglb6BfQr22xt8T9Rb1vcnoig28ZZjpwvcKw8ynyS/EAQu14rJOWtzaiJ67vLp0FIN078ND02H/BY4Wgqt9mbbRLfxpcesUzh6s+0D+mFxzqcUZg9zPdYRJd9CQAgIgVQR0JbtM7+Cv/g21M2Cow2wuiYxFm3dhmTLH4jTG3WwepOVQj8Ms2M9rC21dqZOK4HGc1D4FZg/C7Y3wM4DkD9cK5FVXCJ+3gZqmsQlksDtj4D9kN2EidUPxlHtwffk6L0myfosXA/6Tz5CQAgIgUuFgF4O0XOotxvSMxJ/pCTZ8qP1w9dKBn4CuH4AW0+pdaNcm9h2i2ISrVNGW3gyFZLRxlLaKwSEwOgj4E7iTZ2mmWz5Q+mxZChi1vPkh1IbySMEhIAQEAJCQAgIgcQTkM2viWcqEoWAEBACQkAICIEhEhDFZIjgJJsQEAJCQAgIASGQeAKimCSeqUgUAkJACAgBISAEhkhAFJMhgpNsQkAICAEhIASEQOIJiGKSeKYiUQgIASEgBISAEBgiAVFMhghOsgkBISAEhIAQEAKJJyCKSeKZikQhIASEgBAQAkJgiAREMRkiOMkmBISAEBACQkAIJJ6AKCaJZyoShYAQEAJCQAgIgSESkEfSDxHcYLNNnTqVxx4zX1w3WAmSXggIASEgBJJFQOboZJEdvFxRTAbPbEg5fvnLXw4pn2QSAkJACAiB5BOQOTr5jOMtQZZy4iUl6YSAEBACQkAICIGkExCLSRIRHz9+nOnTpyexBBEtBISAEBACQyUgc/RQySU3n0sppZJbhEgXAkJACAgBISAEhEB8BGQpJz5OkkoICAEhIASEgBBIAQFRTFIAWYoQAkJACAgBISAE4iMgikl8nCSVEBACQkAICAEhkAICopikALIUIQSEgBAQAkJACMRHQBST+DhJKiEgBISAEBACQiAFBEQxSQFkKUIICAEhIASEgBCIj4AoJvFxklRCQAgIASEgBIRACgiIYpICyFKEEBACQkAICAEhEB8BUUzi4ySphIAQEAJCQAgIgRQQkEfSJxGyvE04iXCHKFo/glpe1jVEeJLtkiQg89TI69bRPk+JYpLkMfnII48kuQQRPxgC8u6iwdCStKOFgMxTI6unR/s8JUs5I2s8Sm2EgBAQAkJACIxqAmIxSVH3j3YNOEWYIxYzdepUWb6JSEYChUAoAZmnQnmk0ifzVJC2KCZBFkl3tbS0JL0MKaA/AVlD789EQoRANAIyT0Ujk9xwmaeCfGUpJ8hCXEJACAgBISAEhMAFJiCKyQXuACleCAgBISAEhIAQCBIQxSTIQlxCQAgIASEgBITABSYgiskF7gApXggIASEgBISAEAgSEMUkyEJcQkAICAEhIASEwAUmIIrJBe4AKV4ICAEhIASEgBAIEhDFJMhCXEJACAgBISAEhMAFJiCKyQXuACleCAgBISAEhIAQCBIQxSTIQlxCQAgIASEgBITABSYgiskF7oBBFe8bVOpBJfZ2dtLZ5R1UnkQl7vyok87OC1N2otogcoSAELAJyDwlQ2GYBEQxGSbAlGTvamf3M4tw3VBNon++O4/VUexykZmdTfYVmcxYUk17EicWk5f3RB0zXC6yr8omOzsT14KNKSvbrIe4hYAQSAABmacSAFFEaAKimIz0cdDeyIplFVQ8UA2TMxNb265DZE+fR8G2BpoON1A5B5q3LCJ3VWNiy4kkrauZG/PmsaK5jY6ONurXlsP2+6g+0B4ptYQJASEwkgnIPDWSe+eiq5u8xG+kd1lOIVWbC6ntrKasK7GVbX2hkuV7O6icneUXXLDzbTxjr2XN0dN+y4w7scWFSPO2d1DV6qFwilVK0dLlFD1UTUeC2xhSqHiEgBBIDgGZp5LDdZRKFcXkouj4RC/gWI2edEcNVVmWUuIPSZ/EjPlAV4ItMxEYu68rpNAIb99fw24qqZ6TY4SKUwgIgYuHgMxTF09fjeyaylLOyO6fpNbObSoluiRfO03boej2ApJpLTEb5W1vpnpZMbm3rYF88KRof4tZB3ELASEwcgnIPDVy+yZZNRPFJFlkL0K5p7dXsIblVN2Rl7Latx4+TfYNJZToEo9WcO2dtQnf4JuyxkhBQkAIJJ2AzFNJR3zBCxDF5IJ3wQipwKlari1touFsFXmpMpcABXNLKFlYzo6et6maA2zfQWtyLMIjBLRUQwgIgSETkHlqyOgupoyimFxMvZWsunY1Uzy5jJqWgxSOT1YhMeSmT6LkjnIQe0kMUBItBEYpAZmnRk3Hx1BM+mCFB3Ki/Om4vT2jBtYl2VBfO2uumEHRYQ+l02xTia+d6mcaU64ieH1tQElKLTaXZJ9Ko4TApUZA5qlLrUcHbE8MxSQNqjKhypDxy7HQngmbXPBz4E4fPHHeSCDOxBOwFYY91jHexMnvpLY0lwqg89BG1jy+xv83b2wurROnJncD7Kk6igsWUfvGaX9zvO83UnbnbmpaypJbbuLgiSQhIARCCMg8FYJDPEMmEN9x4QxD/n+zdZm56XC3bS3Z0AvLATOdkUWcwyDw0SEq7qlkzXYto4LCog6qNldROGEYMu2srS+toGw7FORDxQMrDIHlHJ+d5GO7bje7j1aze2Y1ZXqvyZyVVJ3xUDghhRtcjBaLUwgIgWEQkHlqGPAkaziB+BQTM1e045xjjESvd8MjfXAMmAb821j463Q4fR6e6IUvAJ8Ct42B13uDGTPSIE/B6wq+MAaWXRaMG62u8TOpfLmeyiS0P2/hVtTCrUmQHIfICUWoHoXX54V0N+7Bj8Q4CpEkQkAIpISAzFMpwTxaChniz0Ef7DI0lDXp4Eh6xQN3A3PT4NWxsLgbintgm62IfNoLP7XxPnUZXN0Nf99nBdSnw1eVZYn5rSNwtHTFKGxnOrjTxUIyCntemiwELh4CMk+lvK9i7DGJUJ+buyGnG+5WVmT9WCgfa7l9Pksp0b7/ocPSoMiWcWcP+MbAD1x2AHBKwXVGFd5W8HEvTEuDKUZ4MIe4hIAQEAJCQAgIgUuYwODNEtvS4E7bwqHB6OUX5/OOsSzjSDb3nejlm7/SEfbelMYeuMrIs9cHJxU8Jks4DlL5FgJCQAgIASEwmggYWkWczZ58GewwrB63dlv7RXR2Y3UnIG2ckfYzBenpwVM+q3vhfmCHXY1dCjYAf2tuWAlIEocQEAJCQAgIASFwiRMYvGLSreDvLoO5BpkHuy1PriHOsZj80V7y0SmuspWUIkPxeCgd/s5JDJj7VYwixCkEhIAQEAJCQAhc+gQMTWKAxtp6hz/FEb30op9vYigTu/rgFR+MS4cHbDl77SWaM7Z/lbFB9sp0+Bc7/HYtZwyssv1Fhlw7SL6EgBAQAkJACAiB0UEghmLSB494wHzExQofPHIexo2FXxrLNPqZJnoz6//MgIeA1T5Y7IG1wKoxcI+9QdbPNQ0W6rwumGTLKLT9uYbM0dEH0kohIASEgBAQAkLAJhDDPJEGj2XCY1F4fcMN7RHilmXC93qtvSdPp8HnIigbf50B7xp5p4T5jShxCgEhIASEgBAQAqODQAzFZBgQPjcGPjdQflfYk2LD/QPllTghIASEgBAQAkLgUiQQYynnUmyytEkICAEhIASEgBAYqQREMRmpPSP1EgJCQAgIASEwCgmIYjIKO12aLASEgBAQAkJgpBIQxWSk9ozUSwgIASEgBITAKCQweMXE1wcf9lp/nxqPph/p8HS9P76I6mvy1E/U7TwHXWZggt1++eYDaxIsP1xcpKcE6zSpaGt4XVLl72zndLs3emk+L+2nIh1zi54FXyenB5tnAHH+qK5zMEA1Y2XvF+/rtsZvImRqWR+lcJz2a0yEgM5OOhPRtgii8UYX7P2oPaRcb1cnnV3R00cSn9CwVF270eaOhDYmhrD2DyM/6TxGNomOj0D8iomvF57zwIRu+Mp5ePA8fKkbSj1wYgT+4J8z6qRfLqjrPbUbfme8myc+Rhc21anXYGwOlN4DV+TA4w2Jrc+xenDlQPaX4YovwpLa5F5wXR/CM8vghtr+7Uh2W/uXmJqQ9kYWFbhwZecyb3tr1DJbX5hH7uRcNh6N48fF187GJTNwjc3m2vn1idEjPjoCBTlwxZfhRIJ+/F95GsZ+0RpfmTmw5UjU9g8Y4fsQlpRZsl76w4BJUxYZ6Ndsak7E0WeDqJj3/VZqH1+EKzOT6mMRZHc1k3lVLiv2tENXK+sWzCDzimyyr8jEVVBB80eDKCwRSVNx7Q40dySiDQPJ2LLMmif1XKn/cp8aKLXEDZNAfIrJxz0w4Tysxnria3sm1GbCb9OgEdBvHN5uv5hvmBVKSHY9qX75fFBUr/FY/I8NdzDFyHR1tcDkb8OGfbC7BjwHYFUZPNOSmPp2HYHp5bDtV3D4VzAH0BfgqtcSIz9cSvtrsOwpeKAWJrtDY5Pd1tDSUuvLKWTrvoP+F21Pchvt9rXTuP90oC65M+9l5dJnKZxopAnEhjnSc7j3uUae1X2WmxkWOUjvLltZGH89bHnSypyIBwkc2QQl9dC4D/Y+Z8ld8g+w78NBVhBI/zys/aGVz2Q4eEmJy5FTSNWmZ/3y3IngpSV9dMivxGb+xVTKVlVHrWv7oR3oV7ffOxvWXDGVFdubg2mPrmHGVWtoT5VlIRXX7kBzR7DlyXF5W2BJC2xYDxuetMZh4w8hUX2enFpf1FLjUEx6Yaozwl3wL8YTXPVD0ars9t/vg2OGleJCYTnVDTf3wVzjoW4ZY+HVMbAtHeZeRKPpBa2VT4c7pls03ZNh8yx44CnoTADgF34Me9+CO26C62+Cnf9pCT36XgKERxCRcxNsXg/z6b8sley2RqhOSoOystDqRvDe10ttaS4rjLvhrGlFVK6/l7ysOGuW7ib78jjTRkv2Ujl8y7BAXD7OSpluvhY8WuaBwrthcR2c3Qe3TIfZJXDS/qF959xAGaPHOXWLniLlMe6sbH+ZmelxKJPx1C4rj6pDira9lQOk9tK4ZQ3ML+PKXfdSsXQHHT0K5XmbZ/W15f800eZM205Qsr5Tce0ONHckq12O3Bf1PFwMC4vh/rvg+w/CLZ93YuU7CQRiKya/Nywha4yX7zmV+Zoh4okeaDtvPYpeP8r+ES9UeyHHY/2ZVhVnaSg87rSR/4lueL0bbvVYfx8Dn/pgve3XefVj739n17GtG26ylSP9/h69zKTjdPqdfXDEB793lnL64OdG3RZ7oc3Ou9cLK/Sj+D2w+zz83K6/rsfrqbrau2FPA+SXgPlDNXMe0ACnhji5O/2mv+94DmbbP0Tan36NpTT4f0LNhIl0R1oiSEFbB9EEbUav21JB8ZKNNO6rZobLhcs1g+o32uk8ZS/LuFzM+1GjX9Fof6Oa4qJiZhRUcNoHndpfoP3F1J0KqiJmFeoWZFK2HZofKMPlKmb3W+0076tlRdEMy3Tv6/T7KxYUs+6V3axboOvgwlWwiMYoMtt3rWFG0TwWLZnHoh9pUyZ0Hqll3oJiihds7H8H/dIyKK0HbDO1ack4+RossM3WRU+bGhUcqQuatRc8Hfnpz2TAvl/DeKPVE//S8HTDrjpYMBt+VAePl1sydVnmXiq9RKBN5wWzYezfWPkj6QB678kRXedy2H8ElswGV5lVt66TsKwMXDpML4fWBdvzeBkU6L9lcOKkla9I+2fblh17CUnLet+ofpjz+OFaKoqsPpqxYB2tug2+06wpKmbekkXMW7CI3ad0pk5qly3yj0fIN0cAACAASURBVJd1+yPsJ0rPIssNOX8xKawEw9vZTNV2WLm4kKtnb8SzvoQsfb/lnkT5Q5YFx0idZGcqr91Ic0eSm+fTY0Ivnz8FV33ZGj+vnExyoSIeFevz4mdKXW3/vXi+f2rv+WD81R6levqU2mjkmeVR6reeYJqXtQyfUrPsNCd7lTpix/vlh+V3ytbfLT6lFtn53u5T6oPuoNyWXqV6fEqtsuN1ua3nlfpTWDp/Gb1KLbfTvdyjlNmGP/Yp1dMTrJ8ud5UnWK729/THECnk0UcfDQRPmzYt4I7L0fMHpbhaqfk7QpO37rDCN/8hNDwRvp4Pkic7UD+vUvOvVmqO0a4kt3Ww/dBUV6kKQK/5KeZvVU3NDWp5vu2nRNUfblI1Dxf547e2ePwtO76tREGJarK8ytO8NSRe9RxXJaCKNh/3p/ecafCXUbS2QXV84lEdrQ2qaqkh09MWKEPXY+veg6p+w3KrTixXb/vHoEfVzEcxp0ZZxXZYfgpUw1kHeId6FtSzdj2dUP+37u983RfPK9Xhtca1M7702Nv5plJ1Pw4dE83PK8VSpT5RSnW8acXxaHzXxJlXrfQtXqWUV6nNj9r5r1aq9oBStWFltdnpd75rVfuQLvtqpSKN/Y4/WONKx+u/pd+1vk8cs/2vWjJO2jJ50qrzJ3YbFv/aivfY192cGsuv/zc+qdTSA0G/4fK01th9gqqqqw/2Wf6zqkOpwDgoWH0wkMtzuEqRv9Xus0BwiMOU64wxJ0HbzpUKilST7oOwz9u19hiZ74yJsAQRvIO9PkJEJPnaDSlLj5nwuSM0QXJ8Z95VqvFVpRbfao0lPb4aP0h4WcPqh4TX5sIKNMwdUbS0WBbdECOKgl4XXGXIqnfDNy6DQjvsp71wQi/72P6JafAFe9llRS/4wvK/mQHbXNbSjE7nLMmf7IPPpwflHu2F9DGQb8vVLwecMhaudFl/RpU41QM/twP024wz9BKP7V/XA+lp4NywFOr3BbnhBwYqx+hiyky0O1WGGbPe27XJ8m64Y7IZmnz3hWjrAK0quH0lK7RJfM5WOl4upyC/kPJlJf41/YOf7KDo+gJKH1oeUULgZt498L4Pd06uf4jp76zL3WRNKWT5PWVBme4cSldVUgCsbOygfPZMiu6vommDrsc6GiNutsyiZNVWoJl1L9l7DtoPch+VlE0L1CxYRvo48Hf1OMjKCF0zP/QWzJ0Ot5da6U9/AJyDux6G/Gvg0Gtw2Fny2wTH4rib1VaLpdUwTU8qGXCXLXvzAVh4EyzUbTM+a8sgfz3MvcYK1MuN0T5Zk6H2gBWr5a2vhp52OK6Xj6bDqllW3HWzYOeDwNOw/T24fDqsng5bai1LjV4uXTsL9tTby6XdsOxpuGeAsoFnD3tYfnsRpU/sYMdS4Oh97D7hxZ1fRs0caF5VRbNtCTq4eQUr188bol3SS+OLa2BxOQXhy3i+dqpL1/nHacNzpUOUHw1wlPARdu1GqeXwgidcA7fMgs37oPERS9aPkrQPb3g1vWRyG7+2UdpkzjeRlJRPjXzTor3vJk3v07I+xxQ0G3tRJnigwPFrxcaQp51XpsFtbtjittxb0mFTGmT0wopua/OtmcW5UMx6mfHabZbvbDn5gp3oqFMX2z/g+37CBSfQ7x4XVLIiib0uwWucp+qgtAXOPkJqZjSjUaluq1F0ZKez/JIZQJGdk6dt5ZbJXGe6PJewn9HIomKEmqdBvc7YdfKku/3Ky6TcoFJRMFsv5UX/uKfN49l82P3ARr8Of3rXRoq2lYSsBkbPbcRc7pQ5zlre0/uOvB/CUaBUKwrd4HVD469g769B7zcb6KOXjbY/AuuLB0h1tbUBW6fQp3B+DNxy9QDpY0Tpa/uwPv11TeiYzrP3bHXZk9vCu63lUf9S1ofwkDbdN8D+D6HzNTj6CFw3cFnB/bhuChdYG+88/v50U7RaL6/UsXGXvqtqZd2WEsq+bq7PDiw7JNZexqlc6NzpBWMP/biINRRQf3IHheYSWjBJ4l0j7tpNfBNDJN5yN2ywFVdnmghJIJ5EEHB+lqPLmq6tGdpaCZyNkOys8UOurRTRPuYPvKnsHHfDnwP65MyYtNC7Ni1LKypmLf9fH2zssywu29Lg50b5ZtlmeWa4dpvl++Nc4Gy10JYc8wdiIAUnXG5C/fbdrL6rMz9t+s4VuMr54TAjh+j276q/B1reDd0TMERxg8+WwrYOvnL+HDmTpvotEWb2VMxL/jLM8WhWIKI7i7L1ldxXWEHtrlLcz7WxfJ9Wqob7McZbjt7MGmZVG6iOR1+A0nPg0QpAnB+fPc7fH+ZeKufYrFm/kL0ugLaiaEvrS68C78HS9dC1DLbsgGOvQZ3WkOL/ZI3PDUmcdf08KrmPirW1lI6HtofvJc+c00JSD+xpP7CDZoqoviFUsWnfV8GND82gqWMrBTrK18q6H7ex/Pv9FZiBSxhs7Mi/dgfbopjp/ZfCNaG/SzEzSYLBEIhtMfmqcQpntS/0R1uXZFoflhtpnVo4Sz36Tkt/pqWBX9mx/S19kK4tLWnwTk9/+XYy/1d3D/y9rZQ8fxnc5gjXluEwpchRKCI9BM4s3y+iT9/IWB99msecNAZScMy6JdydYZvRnwJnctVlvK+PdhbDxBh3qPHWR9+ZXjEbDr9rm9jtu9VnUmmqTFFb42USIZ23q8NvMTGj/POTOVZ0pO13fsYzw+NNAVqikzAsPMRryOhss9YyJ42PnjHr6+WsBCq+NYsVuSu4cSh3z0aZgbo4J3XurA1uHtWRb2yCTVGOsOtjngWvwSfVQauFDtsVpnAHCrEd7mssZWF7S/85IXrTw6XALXq5qB70aT3n85Gt9ATkjIPVD8L2ZVDyNKwqhYU/hD2PwSq9pBfbOmku3HWeCe+jHMp3roSjFcy6rYIV373RqUn0b58nQpyXxk3r+i3jeI/VknvbGlg6k7YDddS+VM2KG6ZSg3ViKIKgBAaN/Gs3gY21RGnL4fzrA9d6wuWLQGIrJoyBZkMBeMU4pfPhebjfpliVDlMiiGv0WSd1fmqnWzYGphny/uk8/F+958MDN5m3NXZ6M+iPhnXkqA+2G5HHeq0nuzrzT2MfbPfCP/b0Xx76K2PW/b2WqYJ7V/7ViNNVcBQc8/bYKNauZXK+br/LkrvJVhL0DvE762HzgxC+vjykGpyD0q9YOQ89D48/bf2N/QqE31UOSX6kTLZCtSfshynpbY1Ul2hhgV+sQILTLfqUy+ngkza7Oq2lkjZrYGRn6U1Jdax7oZH2U40U51n7RZoOHKTfEk1AKtQdOEjrsUaqX2kNLBsZ0f6wjdsOWkFdrVQWVsDDDRTm2KnsfQshNU7Poby23J+g8vtFEeWaZbDnNTjRAs8YD+876VgqzsF2O7U+taWPq7MJZj4Gb7SAPko5sw7uspdHTMGdLZD7bSvkhU32+HrMCrtBLwfZF5VTed97sEevduixMQ6WaaViE5TWWk+O3a8tGsCuejgW4VkoXqfOVjL//zn2Ppa7ng8qOIfqgFkw37D6zLaXmJbWWKfgvm77V98dVKgMsQGnrUCcPmuf3/e2UqX7aPXBYB8BOXPK8PdIfhVF1zkNDkjp52jdvzsQ5nXW+zoPUrYHKr8btIJ4T+3mxun23qQfL6L4W/MoK13EuqNQdouzUS4gKjmOlF27UeaO5LTKkvrKU+Aqhzfs8Xa0Dh5oibEkmcwKjRLZce+97eoxTrx8FnpK5UjYMZWX7RMv5oka7d7YHSzubeNEjZOuUyn1tjd40sYJD4g3TvPoOH1aZqFRVmuvUifD8n9gnMBx5OmTN53ng3kdGf9hF1RnyNR5XvaGntJZpE8VxP4kZJf1mQPWTvD8Uut7tX26IHbxsVPULrVl2ycZnBMN+tSFfboktpBBpDh7WKn5djt0WXMeVeqMkT9JbR1sPzRsKA+ctChZu0M17d0aPKWTv1I1HG5QKwOndArUs4falPIcV5WBsCJVtVbLKFIr19ao428dVOWBuAK1fLN1QuPgWusUjj7Ns2vPVlXknASiSG3VMnuOq/JAmH0qaHGN6tDDtKdNbV1cEKhn0dIa1Ra4TpRSnzSpAorU8Vj92Phc8KTBnr1BN7cq1XhYqYeN/tqpTyJ0KrXUOJ3Ad61rzuhGy2mfoAiMKWOMLd6hlD4RNMcJu1WpvWFl7dVleZVabZ+uMeU8/JxSh8NORbTZ14mTbtubwRq1OidxvmvXvTRynfWpi1bj2tbt9J8gCorq5/K0qa32aSryrf4o39wQ8fJpWlugCuxTWf3kOAFn6v2nt+z180D/FsyvUv/nRX3yqyhw8ktfpDVznNNi4d9FxsksR3jk78FeHxGlJOnaDZQVa+4IJEywY+eTxjWh56wnlWozxkgCi0tIPySwPhdSVOzjwuG16/IpdbJHqT/2KKV/9CN9TMVE92FXr1KdkdJqBSFaXCTBOszO4+2zEvT0WvLNSVmH/UkfH44mwwj/k0+pD3zxpTWyxeNM6EDz2Mc54yn4Yk+T4LYmtB9isfXE0gRCBXgGSm8fMa5p1cfwPcoT4XhoqLSgr6NxpWJpQzBgINdQeHd0WkeMB5KbqDizfvFc09HKPfuBUm367ifKJ1x2uD9KNn9wj1K6Lz1R83SolRC3shCxqE86VNvZwY2viHLCAhN6fZh9FVbORevt8Sql25V49CFIEtoPIZIvPk/YukUcZqLPjYm5Q91ZZ/dL06s2ev9IxI/edBq2NyRiOjMwLI8+2hveCh12pZlnAPeVxrLSAMkueJQ7QXtKLnhD4qjAxdzWuDaNBBm4B0rv9foXO07r5aIpWbhjLd91tVL7SjOT8nKoLlxDzcmBnh4arAND4Z3l7BY35CTLadYv/FofTJnjY+wVCZcd7h+orHRwR3j6a+v+Wpp9k8h5p4o183dQOZT9Pk65l2eRE2sMOGkv1LfZVxeqDokuV++tGsxYSHT5o1Be4nHr9+qYm+/v9MImt3/JeBTylSYLgaER8HXS+EIleqfB7k01FE0uo2BC6EmMcMHeU42U3XmfFby6ga0xjriG5xd/ogl4aSwsw+4RGs7q99vIRwgIgVgEEq+YaIvKIVdww5je33bBTrbEar7EC4ERSqCrDe/Ee2lovBd8XtpOtsVUTNzTymhqzKMjM5cbv5aII8IjlM1FUy03ZSebyGvtIPeGG8kbjrXkommzVFQIDJ9A4hUTvWwzKdrSzfArLBKEwKggkJVH0dxBKhfpWRTcEjyxMSo4jfBGZl1XQKFYrkZ4L0n1RhoB0SBGWo9IfYSAEBACQkAIjGICg1NMuvsg0gPLRjFAaboQEAJCQAgIASGQOALxKSaf9sBiD3yxG77UDTkeOGE87Cxx9RFJQkAICAEhIASEwCgmEFsxOdcDX/LBN9LgIYPUzecNjziFgBAQAkJACAgBITB8ArE3v+q37f42I/i4ea8HNuiClfWI59gShl9LkSAEhIAQEAJCQAiMCgKxLSbfMJQS7BfoaTTPjA0+dGav11reWS9WlFExaqSRQkAICAEhIASSRCC2YuIU/Ho33NoN+l1m+nPG2WPSB2v1Kx2Atb3Bl95ZIfJfCAgBISAEhIAQEAJxE4hfMdGPQjZfVqmVkNd7Qb+guMQub5oLRtGT0+OmLAmFgBAQAkJACAiBuAjEr5h8NQO2ZMIO4902p22ryT2Z8FYGvOoOLu/EVbwkEgJCQAgIASEgBIRAkED8iomT5+/csMrxGN/jBi/KyC3OgQj4wNvZibdroETDiEu2/FhV80VJ4PPSqdsdLT5KNgkWAkLgAhBI9jySbPmxkEWbh2SeikVu0PGxtYlj52F7N3xs7yPRReTa5eTbb+b9nb359TnZ/DroHoiRQb+YrXisi8zSMjKvcDHj8d3+N87GyBZ3dLLlD1QR7/vNbFzionhTc79kp/etwzU2k8IlZWSOdbFm1+l+aSRACAiBkUEg2fNIsuUPRFHmqYHoJCcuhmLSBw/2wv19MNVrPVSt22e9PfiBMTBNZ++Dx22lZXUvdCenoqNSalcz8ybPgg1NqN31KM9xJq0qZt4z/X/Ih8Qn2fIHqFT7/o3ct7qS+7aA2+0OSek9Ws21t63g2cMdNL1cj6elhopvXcvGI50h6cQjBITACCCQ7Hkk2fIHQCjz1ABwkhmlYn1e/Eypq8P+6s+H5lrnxHuU6gmNGs2+Rx99NND8adOmBdzxOpo2FCkoUAc7gjmaNuuwItVkhAVjB+dKtvyYtel5W5WDKtp83Ejaobbm64fkVKlgEz1q6xwU+c8aYUaWGM7h9kMM8RItBC5qAsO9PpI9jyRbfszOk3kqJqJEJ4hhMQH+JRPezYDjl8HxDGjPhKKxobrSMnvz6/uy+TUUzHB8Xlr37Ib8MvKygnLyZpYBuzl4arjWg2TLD9Y5ustLR3ikt43dR6Fg7Y0Em+3mxoUlcHQ3p5O1zya8HuIXAkIgDgLJnkeSLT+OJiLzVDyUEpkmtmKiS8tIgyvHwJUDJNebX+UpsInrG99pGvcAk3MJWeiwGTc2tw2vrGTLH2LtvO80U6dPpucE1RJLVLZfIWt6xztEyZJNCAiBhBNI9jySbPlDBCLz1BDBxZltAE0jTgmSLDkEfPS3JhglDfvnOdnyjboOyunsfB92AwdVqiQWAkJgKASSPY8kW/5Q2qzzyDw1VHJx5RMbR1yYLkAidzY35uO3HpilO9aTG69zjkaZsYNwJ1u+rspHzaxbvxuyda29eLNmsnJx4YCVdOfkUKBTOA0NSV3ApJyIESGpxCMEhECKCCR7Hkm2fI1J5qkUDZb4ixHFJH5WKU6ZRe5kYPtp9G6SHLv0zjZrCSfnquH+QCdbvtZFOji45yBMthWTCXn+o84D1jwr1/+A4bpW3c68APO2d5r8jx7O1k8glo8QEAIjhECy55Fky5d5aoQMpJBqyFJOCI6R5HFTcHs5UMHxj4L1anv/IPodADMmDvjzHswQ1ZVs+cCEQnY017Pj5R3seLme+vUlEQ0hIaeF0ycxbz7w5CG/QmZV30v7oWaYM4+84TY7Kg+JEAJCYPAEkj2PJFu+zFOD7/Pk5xDFJPmMh1xC3u33+l9DtGKT/eZEXyvr7qyjaHMFBQmwHCRbfrwNr3vH3MjrpmRVjV8h27i/3S/Ce6KOsj2w9YnIik285Ug6ISAEEk8g2fNIsuXHS0TmqXhJDT+dKCbDZ5g8Ce4CdpxpYNKqWbgKipkxdiptq+vZsdi/C2P45SZb/gA17HyjlnnfKrP20Kyaxbxl1bTbG8rc00ppa3yWisJcZiwoJjOvjMqdxynPF3PJAEglSghcGALJnkeSLX8AajJPDQAniVGyxySJcBMiWi+HKIXX64V0N+5E91iy5UeBkPW1UnbsLo0SCzm33IvqKfe/J8ddK8/HiQpKIoTASCCQ7Hkk2fKjMJR5KgqYJAcn+mcuydUdveLDH9ueaBLJlj+k+iZDERtSRSSTEBAC8RBI9jySbPnxtLFfGpmn+iEZboAs5QyXoOQXAkJACAgBISAEEkZAFJOEoRRBQkAICAEhIASEwHAJiGIyXIKSXwgIASEgBISAEEgYAVFMEoZSBAkBISAEhIAQEALDJSCKyXAJSn4hIASEgBAQAkIgYQREMUkYShEkBISAEBACQkAIDJeAKCbDJSj5hYAQEAJCQAgIgYQREMUkYShFkBAQAkJACAgBITBcAqKYDJeg5BcCQkAICAEhIAQSRkAUk4ShFEFCQAgIASEgBITAcAnII+mHSzDO/FOnTuWxxx6LM7UkEwJCQAiknoDMU6lnLiX2JyCKSX8mSQn55S9/mRS5IlQICAEhkCgCMk8liqTIGQ4BWcoZDj3JKwSEgBAQAkJACCSUgFhMEoozVNjx48eZPn16aKD4hIAQEAIjiIDMUyOoM6QqfgIupZQSFkJACAgBISAEhIAQGAkEZClnJPSC1EEICAEhIASEgBDwExDFRAaCEBACQkAICAEhMGIIiGIyYrpCKiIEhIAQEAJCQAiIYiJjQAgIASEgBISAEBgxBEQxGTFdIRURAkJACAgBISAERDGRMSAEhIAQEAJCQAiMGAKimIyYrpCKCAEhIASEgBAQAqKYyBgQAkJACAgBISAERgwBUUxGTFdIRYSAEBACQkAICAF5JH0Sx4C8TTiJcIcoWj9+W15UNkR4km1UE5D5LHndL/NSKFtRTEJ5JNz3yCOPJFymCBw6AXl30dDZSU4hIPNZcsaAzEuhXGUpJ5SH+ISAEBACQkAICIELSEAsJimCLxpxikBHKGbq1KmyfBOBiwQJgaESkPlsqOSC+WReCrIId4liEk4kif6WlpYkShfR0QjI2ng0MhIuBIZOQOazobPTOWVeis5PlnKis5EYISAEhIAQEAJCIMUERDFJMXApTggIASEgBISAEIhOQBST6GwkRggIASEgBISAEEgxAVFMUgxcihMCQkAICAEhIASiExDFJDobiRECQkAICAEhIARSTEAUkxQDl+KEgBAQAkJACAiB6AREMYnORmKEgBAQAkJACAiBFBMQxSTFwKU4ISAEhIAQEAJCIDoBUUyis5EYISAEhIAQEAJCIMUERDFJMfBhFecbVu4BM3s7O+ns8g6YJlmRnR910tl5YcpOVptErhAQAjEIXMTzmcxZMfp2mNGimAwTYEqyd7Wz+5lFuG6oJtE/353H6ih2ucjMzib7ikxmLKmmPYkThsnLe6KOGS4X2Vdlk52diWvBxpSVbdZD3EJACKSQwEU8n8mclZpxIopJajgPvZT2RlYsq6DigWqYnDl0OZFydh0ie/o8CrY10HS4gco50LxlEbmrGiOlTmxYVzM35s1jRXMbHR1t1K8th+33UX2gPbHliDQhIARGDoGLeT6TOStl40he4pcy1EMsKKeQqs2F1HZWU9Y1RBlRsrW+UMnyvR1Uzs7ypyjY+Taesdey5uhpv2XGHSVfIoK97R1UtXoonGKVUrR0OUUPVdOR4DYmoq4iQwgIgQQRuIjnM5mzEjQG4hAjikkckC58kkQv4FgtmnRHDVVZllLiD0mfxIz5QFeCLTMRALqvK6TQCG/fX8NuKqmek2OEilMICIFLj8DFOZ/JnJW6kShLOaljPeJKcptKia6dr52m7VB0ewHJtJaYILztzVQvKyb3tjWQD54U7W8x6yBuISAELn4CqZrPZM5K/lgRxST5jC+aEk5vr2ANy6m6Iy9ldW49fJrsG0oo0SUereDaO2sTvsE3ZY2RgoSAEBgxBJI1n8mclfwuFsUk+YwvjhJO1XJtaRMNZ6vIS5W5BCiYW0LJwnJ29LxN1Rxg+w5ak2PpvTj6QWopBITA8AkkcT6TOWv43RNLgigmsQiNhviuZoonl1HTcpDC8ReowemTKLmjHMRecoE6QIoVApcIgVTNZzJnJW3AxFBM+mCFB3Ki/Om4vT1Jq5wITgEBXztrrphB0WEPpdNsU4mvnepnGlOuInh9bUBJSi02KSAsRQgBIZAqAimez2TOSk7HxlBM0qAqE6qMwn85FtozYZMLfg7c6YMnzhsJxJl4ArbCsMc6xps4+Z3UluZSAXQe2siax9f4/+aNzaV14tTkboA9VUdxwSJq3zjtb473/UbK7txNTUtZcstNHDyRJASEwJAIXKTzmcxZQ+rtoWSK77hwhiH6v9m6zNx0uNu2lmzoheWAmc7IIs5hEPjoEBX3VLJmu5ZRQWFRB1WbqyicMAyZdtbWl1ZQth0K8qHigRWGwHKOz07ysV23m91Hq9k9s5oyvddkzkqqzngonJDCDS5Gi8UpBIRACghczPOZzFkpGCBWEfEpJmZ1oh3nHGMker0bHumDY8A04N/Gwl+nw+nz8EQvfAH4FLhtDLzeG8yYkQZ5Cl5X8IUxsOyyYNxodY2fSeXL9VQmof15C7eiFm5NguQ4RE4oQvUovD4vpLtxD34kxlGIJBECQmBEEbiY5zOZs1I2lIb4c9AHuwwNZU06OJJe8cDdwNw0eHUsLO6G4h7YZisin/bCT+32PXUZXN0Nf99nBdSnw1eVZYn5rSMwZSykoFQTSAd3ulhIUo1dyhMCQmCIBGTOGiK4wWWLscckgrCbuyGnG+5WVmT9WCgfa7l9Pksp0b7/ocPSoMiWcWcP+MbAD1x2AHBKwXVGFd5W8HEvTEuDKUZ4MIe4hIAQEAJCQAgIgUuYwODNEtvS4E7bwqHB6OUX5/OOsSzjSDb3nejlm7/SEfbelMYeuMrIs9cHJxU8Jks4DlL5FgJCQAgIASEwmggYWkWczZ58GewwrB63dlv7RXR2Y3UnIG2ckfYzBenpwVM+q3vhfmCHXY1dCjYAf2tuWAlIEocQEAJCQAgIASFwiRMYvGLSreDvLoO5BpkHuy1PriHOsZj80V7y0SmuspWUIkPxeCgd/s5JDJj7VYwixCkEhIAQEAJCQAhc+gQMTWKAxtp6hz/FEb30op9vYigTu/rgFR+MS4cHbDl77SWaM7Z/lbFB9sp0+Bc7/HYtZwyssv1Fhlw7SL6EgBAQAkJACAiB0UEghmLSB494wHzExQofPHIexo2FXxrLNPqZJnoz6//MgIeA1T5Y7IG1wKoxcI+9QdbPNQ0W6rwumGTLKLT9uYbM0dEH0kohIASEgBAQAkLAJhDDPJEGj2XCY1F4fcMN7RHilmXC93qtvSdPp8HnIigbf50B7xp5p4T5jShxCgEhIASEgBAQAqODQAzFZBgQPjcGPjdQflfYk2LD/QPllTghIASEgBAQAkLgUiQQYynnUmyytEkICAEhIASEgBAYqQREMRmpPSP1EgJCQAgIASEwCgmIYjIKO12aLASEgBAQAkJgpBIQxWSk9ozUSwgIASEgBITAKCQweMXE1wcf9lp/nxqPph/p8HS9P76I6mvy9IG3sxNvlxmYBHekJ/cmoZiBRHrb2+kcAfUYqI5Djuts53S7N3p2n5f2oZdURQAAHP1JREFUU5GOuUXPgq+T04PNM4A4f1TXORigmrGy94v3dcNH52A447f9XD+xFzTA10n7R4mEFLs13mjF6XHT3tlfQNQM9nwSTV5/SYkNucTms0t6zkpsz8ctLX7FxNcLz3lgQjd85Tw8eB6+1A2lHjgxAn/wzxl10i8X1PWe2g2/M97NEzemC5fQe6qR4rEuMkvLyLzCxYzHdyf0N8Pfsq52dj+zCNcN1YmXHQNd65ZFuFyuwF9mbgVtMfJcdNHtjSwqcOHKzmXe9tao1W99YR65k3PZeDSOXwxfOxuXzMA1Nptr59cnpt8+OgIFOXDFl+GE+VTFqFWOHfHK0zD2i3DVl+GKHHjmtdh5zBRbHgNXDsypN0MvnNvgXvRS9L5MWAV9Xlr31frHT+bMyNdn848zyc1dwWlbofe+30rt44twZWZSfSxsLH10iEUuF5nZ2WRmuli05VDCqhqPoEthPhsVc1Y8nZnENPEdF/64B6bao14/8fVf7Iel6cnr5j5o7IZn0mG++RC1JNY6lmh/vRS0u62UvcZj8T823LHkXOj4rmbmTZ4FG5pQ9xeAt5V5mVOZl9VEvfYn4tPeyIpVtTRuqYb5hYmQGL8MbzMVS5qo3LCVLLx4vZ3kXl9OXnyjMv5yLnTKnEK27jtI21U34nbbY1LXyddO4wEPhbdM8tcwd+a9rFxaROFEI020uqfncO9zjfB+NveRGS1VfOG7jsDc62H89bDlSbjhYUhEHxx9AUq8cOYt4D1YNhse+DYsbIfx8VWNux6EVzYBcTCJU+SwkmnuT2xk95awvhyW0MiZD21ZwY1L1gUj50fq53Z2PAQFa+9lUuchFs2+keqjwSwhLm8ri666kWoqaVMr6XhxEVPvvBEuP87WhXkhSZPiuRTms9EyZyVlAAxCqIr58Sl19Wf2n6d/6heduM+UauntH5/qkJNeq66LvKElt3Qr9R/nleoJDU6m79FHHw2InzZtWsAdr6NpQ5GCAnWwI5ijabMOK1JNRlgwduiumvko5tSoCD08dKExch73t6VSHT+b4MaElTvcfggTNzRvz3FVAqpo83E7v0dp5gUbHP9QxFoyhtVvtd9Vippg4a07lOJqpVqDQUN27f21ChlQjuwzcUp0rtXFVys1Z0ecmVKQzO7Lkm3D6bvY9ezQ10VPm6oEfTcV8fr0tNb442paPUr1dKgOj1Jteyut9KC2tgSv6OObS6zw+fZ1bueFcnU8mCxqxYZ7HV0K81ki56zh8ozaUZdAROylnN/3BNWcNcbL95zQrxkinuiBtvPWo+j1o+wf8UK1F3I81t92Q5azNBQed9rI/0Q3vN4Nt3qsv4+BT32w3vbrvPqx97+z5bZ1w032Eo5+f49eZtJxOv3OPjjig987Szl98HOjbou90Gbn3euFFfpR/B7YfR5+btdf1+P1VG2A8NK6Zzfkl5GX5cCGvJllwG4OnoqwphxMNkhXmLl3kLmHlNzXSsWS3UAFU6/K9i/lrHklBabxOCqrTeF1WyooXrKRxn3VzPAvNc2g+o12Ok/ZyzIuF/N+1OhfQml/o5riomJmFFT4zemd2l+g/cXUnYrMtm5BJmXbofmBMlyuYna/1U7zvlpWFM2wzO++Tr+/YkEx617ZzboF9nJXwSIao8hs37WGGUXzWLRkHot+1OhvaeeRWuYtKKZ4wUbaw4fuS8ugVC+RLLOWS/Z9GKRz8jVYkGOFFz0duufkSJ0VrpdYFjwd+enPWtLs4lBDx7Z74OFfwQRtLeqGI7qMcth/BJbMBleZJct70ip7rA7LgS3A5cGqhbhOtMDjy+DF1+AZux377Xbsrw3Ws6Ac3rDD328A12womm0tLR3R6bS/DBZo6wyw/wVrWevx6EtP3neaqf6fxdYyZMEi6o5Z1+Tux+dRvGARixbMY92u035xzVsq/P3g9ItVyMD/s8ZnQXoWk+ZHT9e6qwqopHCK2582yw05f2FZ4EJzeWneV2cF9dvrU83BKGMqVMZwfJfAfDaC56zh9MyIzBtTuTItIi+e75/cez7UotLTp9RGw4oyy6PUbz3BNC9rGT6lZtlpTvYqdcSO98sPyx+w1miLjE+pRXa+t/uU+qA7KFdba3p8Sq2y43W5reeV+lNYOn8ZvUott9O93KOU2YY/9inV0xOsny5/lSdYrvY7d3L9aYSEDEsj7jmuyvVdknN3Y0t27pBKAnfeIUUO0ZOAO+8hlNxx5m3V1FivKhcXBO7wKhvbhiBp4CyD7YemukpV4Nylzt+qmpob1PJ8+66VElV/uEnVPKwtV8E70uPb9N1oiWqy7zw9zVtD4lWYxcRzpsFfRtHaBtXxiUd1tDaoqqWGTE9boAx/OXsPqvoNy21Oy9Xb/jEY3m8dfiuMtrI1nHWYdKhnQT1r3Dk7MarnA6XytTXieaU6vNa4dqwa2mqy802l6n5sWVA2/8HK1vy8UixV6hOlVMebVhyPDnxNNB+wytEyVx+w5HT8Qan5V9v5r1ZqqbbcXK3UiTPW98N2urOHLX9Ei0mnUmvtfDrv4kettLXvKlW31HJrC6ryKrX6Vsu/812r/M12vpM2jW12+hbH0tpppY80HJ1rE1TJhhq1Y9tKu19s6+YnTX7rGFSpgC3wkyZVoC2dcVgm7BrZX3YfR7KY9OgFGW11awrJ4swR5vjU488/n5hyAhYTVFVjoKYhskzPYK8jM2+g/It8PkvknDUsniFwLz2PYe6IojdlRAl3gkOMKAp6XXCVEwnUu+Ebl4GzfeGnvXDCB8fsNBPT4Av2u3RW9IIvLP+bGbDNBXNdVjrrBgRO9sHn04Nyj/ZC+hjIt+XqlwNOGQtXuqw/o0qc6oGf2wH6bcYZ6TDX9q/rgfQ0cG46CvX7gtzwAwOVY3QxZSba7YOOAWRGvg8fIMMIjMqaMImCW4pYubmJtkZ95wcVthXiQla34PaVrNB3qXO20vFyOQX5hZQvKwGKOPjJDoquL6D0oeURqxjYCeGOtB8gmMWdk+sfYvo763I3WVMKWX6PtobZH3cOpasq0TuJVjZ2UD57JkX3V9G0QddjHY0nIo2ALEpWbQWaWfdSsyWo/SD3UUnZtEDNnBIgfRxM1t5xkJURuq/k0FswdzrcXmqlP/0BcA7uehjyr4FDr8Hh92xZm+BYlM2yvg+h9Rzc86CVdtW34cWTkDUZag9YYZsPwPpq6GmH9/SFOQtW3WTF6X0vUS0G4+D7z8Ec3VfrYfMjlgydvqQW1v4artMTWAY8XGPJ+9bToC1Ht99l+fe0WN9z7XY6/mP1MOc5yLGiw//ra7NoQxM77i+l5I5Kjtfq8dBM1a5WuLyAys26n1ZQY29kbt9fQ/PDFRRE6IZw2fH69UbSNbqUOXHsN4sxnzSecibWeEsfZLoY5UcazYMsISXJR+qclZLGp7AQ49c2SqnmfBNJSfnUyDct2vtu0vScbn2OKWg2TsxM8ECB49eKjSFPO69Mg9vcsMVtubekw//f3vnHRnGmd/xrMPVapbI55a5LhdKghlPM4R6LSHUg8ofNkRNGXBU79AS+Q+Isp4XcoQPTqBERET56IETQiRxYdaCRqOwoIRgJClbJrVELIkiksa+OcCLTmAaUBZIrprW6a7z2W70z8+6+O5794d0ddtb+jgQz76/nfd7PjN959n3f5522WUDZOLBrFDBHrOOF1HC1rlc81bzS61eL/P7EytSndLHCKb/3Yxecx7BvHlYqI0sTq/q1lU/P12KL/9Jf04KPj9QB3acxUPBeSilQHltyOc8vFwf6UKmel7nzIV89uR66R2dEPbtKaKnPMF4Wzld3HQisaVCpjmffkgb8ZilwYftRyFfN0LmjqDtZD2020LHcpMi5qs4K0zDo+wKI3AfkwspNTwIYBSI+oOd94OI/A/IjnE5H6beAjeuA5r8Dbr9v5njnulNO0zC69GsA39aMJL0Dci5mTvNY+sr7c3fQzOiviBeQejTL4EPTMHniWTO83ZrekNM+8njF8v45shPYs9qMS/K/T86bWEfV2jrDiFTuUVUbdxld3s9+Zcrv2fMGjm92NiAin3bGvNIMD7WXOpUYJd7x3KumcZ52TE6MLI3/1kpMMEP1K1xe/DoN+zNv9VlOd7V449IbJtXal4G/cmjoV9qLXI5SJDv0F7ze19zwAXd8wH+VAXfKbR/2w2RD5X8mgKMTwI/GgedTqK/XZ9dJr99IKzF+NBqXciRHf0GkMnDscvMarsR8+Wv21BD01STDIdOZ1v/NeKeY12oLKMx0WFkYf/kXUBd71f6Fi5G40MIespfIT9gwkfTnMa3YSjQe3gfgBDrP9aDrWAgta/Px0tGeN381sGY1sH41ULMKWLNcMyRSKLhgVYrRD1lu1DR8pPGQy6GsvWFlYFrCaqxRESNYBry0H0AbcOkK0HoP6HzdDL/TBby1FViuGTYO+qhqjKS587FMf0LmrkBLawA4dQhd17rQ0bcPDXIdiNMRDSfGXreFE1PNUHQIp1/pRV17XbJBncRSpQuxLOnIU2JWd0LTsz/zcp/lzn18PFJTvNktBb6ruQC3RhNf2jKLPvrQouVV+qupHuXCtmQWoBs7/RNAqRxpmQXcGpssX8mR59Ex4AcT5jTQP/4B8LwSLkdrbUaRMiicNoHT6zdETABq3aWcMlK/imWdqQwcXbe8X/sQeKHJWBx64+u48NCdq3KcGssycSmNFyuKq0gkBGxYiYU6f49oHhmRg/eJLxYjZNfVCquc5fZ0W3t072FbUjyoyRgOmUPuC59QNcSzqavK55qwWz45P1yNXfN3YWWmrrlKgDxrdcaiS61Rkc2diVbZtTagzZoSiWVOciEXXq6tTpJYBtTIUYpO4Kb69ZBkJCaJBCP6qW+bqWpaRuXtl6MiFfG2LbVGRGpfBGq2Ahstw2XTNqB9UzyfKm87J9y74RBOAAg8PS+Wq3aLNBB70bCiAehMPmrle6YBoduh+L9LjYlPmlqsqi0AjnzaA+lI3FTjMApjN3QMjXwIrLfG+DQ5prJNWJnMaIq1JteL6dmfebnPyvWOFbJ8esMEs4FezQA4o3nW3H8E/NxSX+5v8oyDuJ6o6anzD1a+nbOBJZq8Hz0C/l2u+QgDqxx+GupRX2qjM31R4JSW+Mm4ubOr6s96JoBTEeAvxyaPunxH63V/J2UKGOPeUsW/0dJkWBk4+o8vrVqrVa6cql542Zgu2NVmzVdFB/DG5i7Utb+GwKTOJRcVrJdc91BGQ8i51KTKDp15DSUlDei8Zu50OtzXiWXbe3H+cD4mSFQt2Z4nv/SH+uU9GELsR/jIsDlVEjIfjHmVclFSF954uwd35aZ4VeZ6kY8vX8WkKRpNra7LVzHwSQ9OnBlIfBlZeaQmR09KYxTAyAD21b4GvBpErVr7YL20EjQu9aOpUxq1wL6/rXOUaySq/7qvANK75c2gigEG1ajFQ+CUFV36JNAuX+ZtwIq9wLV+4J8OACu6gC0OxsaZA6bXjjIyPvg10L0JaLbyRlQd8Wqx3pqqqnoVuPkQuHnFrL/7PHDJmqLRshsWkj26dBFwcDXQvRNQHjrRQUAOkLRvjRscRnvWmdJ2yjUtFcBJaZzItTXG4puEmmKBaMT4Oxm6pbYCjODCYcnlEHbVqBsDYEEtOozpowBa1qQYtSqthH+BP/5PmyKS9/x0t1XzSDj299l75qhRX63DNM7AJentZh4RbVinasM+GE/FqRvGKOzA5dNGpvqTLY9l76Bi78+83WepOz5Nzhmv5x0Z0zxe/i/RS+Ujm5vKe5bHi+5RI6+Pjsar+1zzqFH5hoUQn1v7kKg4eY6J17x5ZLz0ltmo1TUwLoTax0SVv6d54Kg46Xkz/CheVsn4F6uiLk2mLPNeJNFLx75HSrxVCVd5WXV9O2iu8F9aZ3pxtJ4XU17Yn6CVLfDVVbF7g+kNIi20wNoWEcx0nwmbqKkEQ2eVJ4Pao2G3uBrKa8ti6kz1PgSPNFleFhD1B0+Ljy8ej3vpLN0tgteDYnfMSycgfvNhSIjwDbEvFlcnDh2UMurE7oMd4sZnV0VTLC0gWtqvGrpdPai414tz3cdFnfIEQp04LmXqnhQqrblDPJCP6VhIHNe8mep2dIhQ7O9ECGF5gaTdn6LnmOl9Ir1aui/Gr/F9IXquC/Hqpnjc2XtCiGEhdlgeLrIMfmr+zcVoaxdn98fLyrw7Tsf3NQldTkw7+R/xgmctTyBDvuW507zf9BKK5xKGV1GCZ89pra+IxD12dlh6HLQ8fXQZod8m7pHy4HJiWM8buw6LYLvykAqYz0bz8UT+Vt7w9UMCS7PbHyjYau07ou69cQ6IQ93/ZvQJAbtn3u3zljeQ8iAzz4ENh2K6hQfj/Yn8e68/Eoy1Kt3FVP+OHOUVcX+W7z4rLzwdIRd/JKbchJGoEINjQnw5JoR86TsdumEive9GxoUYdsorDYRkaU6CZZxVJjJhZhgbN+XrnbKM+710H04mQ4v/fVSIe9HM8mrFMrnM54MXDodFOJP2ZKKYV/KMhYXRLnfskVgr83kfYkKTXYSn1hjZ/qSH5WJsbp4VFmHpopvh8aBnt8CODF86YctVOEPZRrYHw6aLcboy8pnNRv5YJG7E5PLc/++wELfvibjfroPCdvn2sEMRI2pMpH1+g69CtFx08jlOJjSz+Ae3Qzn1B3LztgdTeJ6kVvn8Oyra/iyPfVY+eWb21BRPLtu8RQbDQH84G3AYPkwoqUuVszZy/YjjIRed2taGOObTI21lpGuvXp/MKuO+oZdJcf0NbVopRbZCJyVsZV5oZfJVf6kPPvu9y5fsQslJWHiQXomU9zViTRnI6aJnKuFLN303MoDOM71YWOXHidq/R8egXOOQweHLYh1HZeqFobFa5f1Va1NikRlcyDLq2VDnDIpNyjK3IvnmbCqzXb49rPLZz6WArzRhEs3IIdd/dPUCVf4hrN7fhM9btekdu4wsw5ULcpNpbN6WZd35KJbyuc9HBW7JmI59lluscpCb6Z9g5lXI7+ps1bJvjgBtvrjXi5bESxIggSQEosPoeXsf5GqBC20dqFvUiMCC1E6/cl+Lxs0/MwW2BnE83Q+IJFUzOjcCAx/sQuN2cx+ZfT0hTy7mzq2FLE0C7hLIv2EiR1Q+LIk7MMi1gQXzbHEXHqWTgGsERkKIPPUygj0vA9EIQoOhtIaJb0kjPu6pwoPy+Vj5vRSLLV1TmoIlgcBPTiP4zADK5y/DiiW5jWyQKAnMRAL5N0zktM3CZFM3MxEx20wCWRCorELd+ikaF6WVCNSoLZazqJNF8kOgciFq16ito/MjklJIYCYRoAUxk+4220oCJEACJEACHieQnWEiNy1T+4V4vIFUjwRIgARIgARIoHgITN0wkR/r+rNRYAstk+K5zdSUBEiABEiABIqDwNQMk/9+BHzf2n2VC1qL4w5TSxIgARIgARIoIgKZGybRKLBY+/Sv2qq9iBpLVUmABEiABEiABLxNIEPDZALYOgYcmg38tUODLkYAfxg4/MghkVEkQAIkQAIkQAIkkBmBzAyTC6PAuRLgx3OAL+2CJ4CD8tMiAA6Oxz96Z8/GMAmQAAmQAAmQAAmkIZDeMJFfEP4pgP+UWy9r28fH1pjMgvEJXFnRkhIgi92t0+jIZBIgARIgARIggRlCIM0GawL4xbhpcPQ9AqJCfvndPM5NAL8bB747G9hWDjROABXp7ZwZwpXNJAESIAESIAESyIJAesNECv1EAA3awldV0Q/GgLvWR/BolCgq+T9HAYw8BEoz+CBZNrW7LT+dTrJ+pycxOgqMRAD5ITan9HRymU4CJOA9Am73N27LV0ST9VsqneesCaQZ4igB6kqAV7R/elVvWkbJv1qLX49x8auOJy/XN68Ac/zApm3AH/mBXwbzIjYmxG35sYocLu70Ay/5gbb+yYkftAFz/hR4aZvZ/nNfTM7DGBIggeIi4HZ/47Z8SXvkPvDmTuDZzuJiX0TapvkdKhe82j7rPRAGzgFYPwvYMAfABPBLa/Fr6zjQBK4zydcDMNIPLHoROPIB8PNqIDIIlD8HVFrhXOtxW34q/S69DbxzBXgLQLvtGevrBJ7fC1z/DFheAXzSBVT/RTycSi7TSIAEvEnA7f7GbfmS6t0rwJ4u4K1OYMMqb3KeBlqlGTGxt9DaXE1GV6i0WUCdui4BrEEUFcNzDgTePgCgGvhJtSnEtwhoXw1sPwAM5yBXFXVbvqrH6VyzBTj2ukPKQ2DLTgCvm0aJzLFkHbAWQHOXQ35GkQAJFAUBt/sbt+VLyP5VQPthYIMcOSkK6kWp5BQNk1nAW+XA3XLgkOZ+s7Mc+KwMuOPjWoC8PQajQHcQWFoPVGpCVzQACAI3H2qR2Vy6LT8TnRw+axC5D/RJ1/NnNQFlwMZ1QN9v2RloVHhJAsVDwO3+xm35OmmHfktP5nXOBKZomKSoTy5+TTMxlKI0k+wEol8A3QAW/XFiimLcez8xfqoht+VPVR+V/5a13sQfG5KzUmQ4CNxip6BQ8UwCRUPA7f7GbflFA3p6KJo/w2R68PBOK+SKbzcPt+Vnq7vSK5KtAJYjARLwHAH1d+2WYm7Ld0tvynUkoH5/OyYysoAEfBXA0hT1P/2tFIkZJLktX6rwdT9wOAjMk9N+o0DlcqA5zYIxv9Uu23pYs0XVgF+bQsygmcxCAiTgAQJu9zduy/cAwpmkAg0Tz97tCmARgFM2N9nQPVPjbzq+uafQGrflA4g8BLqvA4ukrhFggWxQmqPSmroakO3U8htTPE8Cc9OUZzIJkIAHCbjd37gt34NIp7FKnMrx7M0tA17YBOAA8LWm5J2PAKwDnsp15MBt+QAWrAJ6O4D3TgDvdQCH12kN0S51G6v0SXPF+37ZTnWMAh/2A2vXAXpelcwzCZCAxwm43d+4Ld/jeKeZejRMvHxDX9hiatd2xTxHB4HN54H2X+Rn5MBt+ZmyvWWNAhn5y4A9x0yD7JK1wPfT8+ZC4F8lMWwyrYf5SIAECkfA7f7GbfkxctaPwm7baHYsnRe5EqBhkitBN8v7qoHb7wN7XgQCjcCc54DWDqDZ2tck17rdlp9Kv2tdwA+3mTlk+3Z2AmoB25J6oGc/UPvnwF81AlXbgLOXgaW5jhKlUohpJEACrhJwu79xW76E8/VHZp90SgYOAHV7gTuuUpuRwrnGxOu3XU6HiLtAZBQoLcu/S7bb8pPx/V49cKE+WSogN2Ab22QaK50utDt5zUwhARJwi4Db/Y3b8p9Ybk5Lu8WHcg0CNEyK5UHwuTxa4Lb8bDi7YYhlowfLkAAJ5JeA2/2N2/LzS4PSbAQ4lWMDwiAJkAAJkAAJkEDhCNAwKRx71kwCJEACJEACJGAjQMPEBoRBEiABEiABEiCBwhGgYVI49qyZBEiABEiABEjARoCGiQ0IgyRAAiRAAiRAAoUjQMOkcOxZMwmQAAmQAAmQgI0ADRMbEAZJgARIgARIgAQKR4CGSeHYs2YSIAESIAESIAEbARomNiAMkgAJkAAJkAAJFI4ADZPCsWfNJEACJEACJEACNgLckt4GxK3g4sWLsXfvXrfEUy4JkAAJPDYC7M8eG+oZWRENk8d02999993HVBOrIQESIAF3CbA/c5fvTJfOqZyZ/gSw/SRAAiRAAiTgIQIcMXHxZty4cQPV1dUu1kDRJEACJPB4CLA/ezycWQtQIoQQBEECJEACJEACJEACXiDAqRwv3AXqQAIkQAIkQAIkYBCgYcIHgQRIgARIgARIwDMEaJh45lZQERIgARIgARIgARomfAZIgARIgARIgAQ8Q4CGiWduBRUhARIgARIgARKgYcJngARIgARIgARIwDMEaJh45lZQERIgARIgARIgARomfAZIgARIgARIgAQ8Q4CGiWduBRUhARIgARIgARL4f5hisu//vp23AAAAAElFTkSuQmCC)"
      ]
    },
    {
      "cell_type": "markdown",
      "metadata": {
        "id": "IBqe7X1732kX",
        "colab_type": "text"
      },
      "source": [
        "# Basis"
      ]
    },
    {
      "cell_type": "markdown",
      "metadata": {
        "id": "YeUZVHRM6PpT",
        "colab_type": "text"
      },
      "source": [
        "## 6.1 Graph two vectors that form a basis for $\\mathbb{R}^2$\n",
        "\n"
      ]
    },
    {
      "cell_type": "code",
      "metadata": {
        "id": "utvF3Pkt8NP6",
        "colab_type": "code",
        "outputId": "55cfd308-27c7-4bef-d095-350bf164f2b9",
        "colab": {
          "base_uri": "https://localhost:8080/",
          "height": 269
        }
      },
      "source": [
        "# Axis Bounds\n",
        "plt.xlim(-2,3.5)          \n",
        "plt.ylim(-1,3)\n",
        "\n",
        "# Original Vector\n",
        "a = [-2.5,.5] \n",
        "b = [2, 1]\n",
        "\n",
        "# Plot Vectors\n",
        "plt.arrow(0,0, a[0], a[1], linewidth=3, head_width=.05, head_length=0.05, color ='blue')\n",
        "plt.arrow(0,0, b[0], b[1], linewidth=3, head_width=.05, head_length=0.05, color ='red')\n",
        "\n",
        "\n",
        "plt.show()"
      ],
      "execution_count": 0,
      "outputs": [
        {
          "output_type": "display_data",
          "data": {
            "image/png": "[encoded data removed]",
            "text/plain": [
              "<Figure size 432x288 with 1 Axes>"
            ]
          },
          "metadata": {
            "tags": []
          }
        }
      ]
    },
    {
      "cell_type": "markdown",
      "metadata": {
        "id": "20yPFBDUxxnS",
        "colab_type": "text"
      },
      "source": [
        "## 6.2 What does it mean to form a basis?"
      ]
    },
    {
      "cell_type": "markdown",
      "metadata": {
        "id": "3w4tEayT8M0o",
        "colab_type": "text"
      },
      "source": [
        "form a basis means for vectors to be linearly independant, and span. "
      ]
    },
    {
      "cell_type": "markdown",
      "metadata": {
        "id": "EHmUxbcY6vD3",
        "colab_type": "text"
      },
      "source": [
        "# Rank"
      ]
    },
    {
      "cell_type": "markdown",
      "metadata": {
        "id": "IpJwt9kw6v8U",
        "colab_type": "text"
      },
      "source": [
        "## 7.1 What is the Rank of P?\n",
        "\n",
        "\\begin{align}\n",
        "P = \\begin{bmatrix} \n",
        "1 & 2 & 3 \\\\\n",
        " -1 & 0 & 7 \\\\\n",
        "4 & 8  & 2\n",
        "\\end{bmatrix}\n",
        "\\end{align}"
      ]
    },
    {
      "cell_type": "markdown",
      "metadata": {
        "id": "FQi1LL8cKyFR",
        "colab_type": "text"
      },
      "source": [
        "The same as 5.2 which is R3"
      ]
    },
    {
      "cell_type": "markdown",
      "metadata": {
        "id": "jGqFMBYY7mHD",
        "colab_type": "text"
      },
      "source": [
        "## 7.2 What does the rank of a matrix tell us?"
      ]
    },
    {
      "cell_type": "markdown",
      "metadata": {
        "id": "Vjg1IiCD8nnP",
        "colab_type": "text"
      },
      "source": [
        "It tells us if there is any rows that are redundant in the matrix. A row that we wont use. "
      ]
    },
    {
      "cell_type": "markdown",
      "metadata": {
        "id": "0Db2sc_V8QD6",
        "colab_type": "text"
      },
      "source": [
        "# Linear Projections\n",
        "\n",
        "## 8.1 Line $L$ is formed by all of the vectors that can be created by scaling vector $v$ \n",
        "\\begin{align}\n",
        "v = \\begin{bmatrix} 1 & 3 \\end{bmatrix}\n",
        "\\end{align}\n",
        "\n",
        "\\begin{align}\n",
        "w = \\begin{bmatrix} -1 & 2 \\end{bmatrix}\n",
        "\\end{align}\n",
        "\n",
        "## find $proj_{L}(w)$\n",
        "\n",
        "## graph your projected vector to check your work (make sure your axis are square/even)"
      ]
    },
    {
      "cell_type": "code",
      "metadata": {
        "id": "hp5z2WTBCNKx",
        "colab_type": "code",
        "colab": {}
      },
      "source": [
        ""
      ],
      "execution_count": 0,
      "outputs": []
    },
    {
      "cell_type": "markdown",
      "metadata": {
        "id": "TKkrPwRM-Oar",
        "colab_type": "text"
      },
      "source": [
        "# Stretch Goal\n",
        "\n",
        "## For vectors that begin at the origin, the coordinates of where the vector ends can be interpreted as regular data points. (See 3Blue1Brown videos about Spans, Basis, etc.)\n",
        "\n",
        "## Write a function that can calculate the linear projection of each point (x,y) (vector) onto the line y=x. run the function and plot the original points in blue and the new projected points on the line y=x in red. \n",
        "\n",
        "## For extra points plot the orthogonal vectors as a dashed line from the original blue points to the projected red points."
      ]
    },
    {
      "cell_type": "code",
      "metadata": {
        "id": "cp52kZra-ykj",
        "colab_type": "code",
        "outputId": "12502200-eafe-4e20-bfb7-2d539c6027cb",
        "colab": {
          "base_uri": "https://localhost:8080/",
          "height": 347
        }
      },
      "source": [
        "import pandas as pd\n",
        "import matplotlib.pyplot as plt\n",
        "\n",
        "# Creating a dataframe for you to work with -Feel free to not use the dataframe if you don't want to.\n",
        "x_values = [1, 4, 7, 3, 9, 4, 5 ]\n",
        "y_values = [4, 2, 5, 0, 8, 2, 8]\n",
        "\n",
        "data = {\"x\": x_values, \"y\": y_values}\n",
        "\n",
        "df = pd.DataFrame(data)\n",
        "\n",
        "df.head()\n",
        "\n",
        "plt.scatter(df.x, df.y)\n",
        "plt.show()"
      ],
      "execution_count": 0,
      "outputs": [
        {
          "output_type": "display_data",
          "data": {
            "image/png": "[encoded data removed]",
            "text/plain": [
              "<matplotlib.figure.Figure at 0x7f787cfb2978>"
            ]
          },
          "metadata": {
            "tags": []
          }
        }
      ]
    },
    {
      "cell_type": "code",
      "metadata": {
        "id": "EZTA6Tj6BGDb",
        "colab_type": "code",
        "colab": {}
      },
      "source": [
        ""
      ],
      "execution_count": 0,
      "outputs": []
    }
  ]
}